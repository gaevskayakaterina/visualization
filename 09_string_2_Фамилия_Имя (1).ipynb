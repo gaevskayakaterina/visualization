{
  "cells": [
    {
      "cell_type": "markdown",
      "metadata": {
        "id": "VMsPjk-yrtui"
      },
      "source": [
        "# Введение в обработку текста на естественном языке"
      ]
    },
    {
      "cell_type": "markdown",
      "metadata": {
        "id": "z1033y0mrtul"
      },
      "source": [
        "Материалы:\n",
        "* Макрушин С.В. Лекция 9: Введение в обработку текста на естественном языке\\\n",
        "* https://realpython.com/nltk-nlp-python/\n",
        "* https://scikit-learn.org/stable/modules/feature_extraction.html"
      ]
    },
    {
      "cell_type": "markdown",
      "metadata": {
        "id": "9Ww8c2lUrtul"
      },
      "source": [
        "## Задачи для совместного разбора"
      ]
    },
    {
      "cell_type": "code",
      "execution_count": null,
      "metadata": {
        "id": "_rIwhRpUrtum"
      },
      "outputs": [],
      "source": [
        "from sklearn.feature_extraction.text import CountVectorizer\n",
        "import pymorphy2"
      ]
    },
    {
      "cell_type": "markdown",
      "metadata": {
        "id": "troFHxn0rtun"
      },
      "source": [
        "1. Считайте слова из файла `litw-win.txt` и запишите их в список `words`. В заданном предложении исправьте все опечатки, заменив слова с опечатками на ближайшие (в смысле расстояния Левенштейна) к ним слова из списка `words`. Считайте, что в слове есть опечатка, если данное слово не содержится в списке `words`. "
      ]
    },
    {
      "cell_type": "code",
      "execution_count": null,
      "metadata": {
        "id": "rWTm-civrtun"
      },
      "outputs": [],
      "source": [
        "text = '''с велечайшим усилием выбравшись из потока убегающих людей Кутузов со свитой уменьшевшейся вдвое поехал на звуки выстрелов русских орудий'''"
      ]
    },
    {
      "cell_type": "markdown",
      "metadata": {
        "id": "UrjxUaNkrtun"
      },
      "source": [
        "2. Разбейте текст из формулировки задания 1 на слова; проведите стемминг и лемматизацию слов."
      ]
    },
    {
      "cell_type": "markdown",
      "metadata": {
        "id": "X9bDfRJQrtuo"
      },
      "source": [
        "3. Преобразуйте предложения из формулировки задания 1 в векторы при помощи `CountVectorizer`."
      ]
    },
    {
      "cell_type": "markdown",
      "metadata": {
        "id": "G8cUt2I3rtuo"
      },
      "source": [
        "## Лабораторная работа 9"
      ]
    },
    {
      "cell_type": "markdown",
      "metadata": {
        "id": "9JbPvRyBrtuo"
      },
      "source": [
        "### Расстояние редактирования"
      ]
    },
    {
      "cell_type": "markdown",
      "metadata": {
        "id": "l4U2dqDJrtuo"
      },
      "source": [
        "1.1 Загрузите предобработанные описания рецептов из файла `preprocessed_descriptions.csv`. Получите набор уникальных слов `words`, содержащихся в текстах описаний рецептов (воспользуйтесь `word_tokenize` из `nltk`). "
      ]
    },
    {
      "cell_type": "code",
      "source": [
        "import nltk\n",
        "nltk.download('punkt')\n",
        "import nltk.tokenize\n",
        "from nltk.tokenize import word_tokenize\n",
        "import pandas as pd\n",
        "data = pd.read_csv('preprocessed_descriptions.csv')\n",
        "#data\n",
        "#a = data['preprocessed_descriptions'][:3]\n",
        "#word_tokenize(data.preprocessed_descriptions[1])\n",
        "\n",
        "wordsi = set()\n",
        "for i in range (len(data)):\n",
        "  words = []\n",
        "  if type(data.preprocessed_descriptions[i]) == str:\n",
        "    words.append(word_tokenize(data.preprocessed_descriptions[i]))\n",
        "  for g in range(len(words)):\n",
        "    wordsi.update(words[g])\n",
        "     \n",
        "wordsie = list(wordsi)\n",
        "print(wordsie[:12])\n",
        "\n",
        "\n",
        "  \n"
      ],
      "metadata": {
        "colab": {
          "base_uri": "https://localhost:8080/"
        },
        "id": "Pi4VP2d4r_GC",
        "outputId": "5aecc11b-dec0-4ffa-c380-380455168690"
      },
      "execution_count": null,
      "outputs": [
        {
          "output_type": "stream",
          "name": "stderr",
          "text": [
            "[nltk_data] Downloading package punkt to /root/nltk_data...\n",
            "[nltk_data]   Unzipping tokenizers/punkt.zip.\n"
          ]
        },
        {
          "output_type": "stream",
          "name": "stdout",
          "text": [
            "['may2009i', 'orangesmangoes', 'associated', 'wwwweightwatcherscom', 'kummelklossen', '61262', 'timeid', 'washington', 'hugh', 'ofbut', 'zaars', 'beverages']\n"
          ]
        }
      ]
    },
    {
      "cell_type": "code",
      "source": [
        "len(wordsie)"
      ],
      "metadata": {
        "colab": {
          "base_uri": "https://localhost:8080/"
        },
        "id": "2bTohSte0waD",
        "outputId": "89503be8-6cfb-4a98-d5a8-af10e2cb6289"
      },
      "execution_count": null,
      "outputs": [
        {
          "output_type": "execute_result",
          "data": {
            "text/plain": [
              "32868"
            ]
          },
          "metadata": {},
          "execution_count": 11
        }
      ]
    },
    {
      "cell_type": "code",
      "source": [
        "data[:12]"
      ],
      "metadata": {
        "colab": {
          "base_uri": "https://localhost:8080/",
          "height": 425
        },
        "id": "h5zMC5CiRtFF",
        "outputId": "a728bc50-daaf-4074-fe3a-53ecb4cfb1d1"
      },
      "execution_count": null,
      "outputs": [
        {
          "output_type": "execute_result",
          "data": {
            "text/plain": [
              "                                        name  \\\n",
              "0      george s at the cove  black bean soup   \n",
              "1         healthy for them  yogurt popsicles   \n",
              "2               i can t believe it s spinach   \n",
              "3                       italian  gut busters   \n",
              "4   love is in the air  beef fondue   sauces   \n",
              "5                   mennonite  corn fritters   \n",
              "6                       open sesame  noodles   \n",
              "7                 say what   banana sandwich   \n",
              "8         1 in canada chocolate chip cookies   \n",
              "9                     412 broccoli casserole   \n",
              "10                          25 000 casserole   \n",
              "11             250 00 chocolate chip cookies   \n",
              "\n",
              "                            preprocessed_descriptions  \n",
              "0   an original recipe created by chef scott meska...  \n",
              "1   my children and their friends ask for my homem...  \n",
              "2               these were so go it surprised even me  \n",
              "3   my sisterinlaw made these for us at a family g...  \n",
              "4   i think a fondue is a very romantic casual din...  \n",
              "5   ok  my heritage has been revealed  these are s...  \n",
              "6   this is a very versatile and widely enjoyed pa...  \n",
              "7               you just have to try it to believe it  \n",
              "8   this is the recipe that we use at my school ca...  \n",
              "9   since there are already 411 recipes for brocco...  \n",
              "10  this is a recipe that my mother got from some ...  \n",
              "11          these are great the perfect name for them  "
            ],
            "text/html": [
              "\n",
              "  <div id=\"df-64ae24af-b177-4a7f-8777-0862197e48d6\">\n",
              "    <div class=\"colab-df-container\">\n",
              "      <div>\n",
              "<style scoped>\n",
              "    .dataframe tbody tr th:only-of-type {\n",
              "        vertical-align: middle;\n",
              "    }\n",
              "\n",
              "    .dataframe tbody tr th {\n",
              "        vertical-align: top;\n",
              "    }\n",
              "\n",
              "    .dataframe thead th {\n",
              "        text-align: right;\n",
              "    }\n",
              "</style>\n",
              "<table border=\"1\" class=\"dataframe\">\n",
              "  <thead>\n",
              "    <tr style=\"text-align: right;\">\n",
              "      <th></th>\n",
              "      <th>name</th>\n",
              "      <th>preprocessed_descriptions</th>\n",
              "    </tr>\n",
              "  </thead>\n",
              "  <tbody>\n",
              "    <tr>\n",
              "      <th>0</th>\n",
              "      <td>george s at the cove  black bean soup</td>\n",
              "      <td>an original recipe created by chef scott meska...</td>\n",
              "    </tr>\n",
              "    <tr>\n",
              "      <th>1</th>\n",
              "      <td>healthy for them  yogurt popsicles</td>\n",
              "      <td>my children and their friends ask for my homem...</td>\n",
              "    </tr>\n",
              "    <tr>\n",
              "      <th>2</th>\n",
              "      <td>i can t believe it s spinach</td>\n",
              "      <td>these were so go it surprised even me</td>\n",
              "    </tr>\n",
              "    <tr>\n",
              "      <th>3</th>\n",
              "      <td>italian  gut busters</td>\n",
              "      <td>my sisterinlaw made these for us at a family g...</td>\n",
              "    </tr>\n",
              "    <tr>\n",
              "      <th>4</th>\n",
              "      <td>love is in the air  beef fondue   sauces</td>\n",
              "      <td>i think a fondue is a very romantic casual din...</td>\n",
              "    </tr>\n",
              "    <tr>\n",
              "      <th>5</th>\n",
              "      <td>mennonite  corn fritters</td>\n",
              "      <td>ok  my heritage has been revealed  these are s...</td>\n",
              "    </tr>\n",
              "    <tr>\n",
              "      <th>6</th>\n",
              "      <td>open sesame  noodles</td>\n",
              "      <td>this is a very versatile and widely enjoyed pa...</td>\n",
              "    </tr>\n",
              "    <tr>\n",
              "      <th>7</th>\n",
              "      <td>say what   banana sandwich</td>\n",
              "      <td>you just have to try it to believe it</td>\n",
              "    </tr>\n",
              "    <tr>\n",
              "      <th>8</th>\n",
              "      <td>1 in canada chocolate chip cookies</td>\n",
              "      <td>this is the recipe that we use at my school ca...</td>\n",
              "    </tr>\n",
              "    <tr>\n",
              "      <th>9</th>\n",
              "      <td>412 broccoli casserole</td>\n",
              "      <td>since there are already 411 recipes for brocco...</td>\n",
              "    </tr>\n",
              "    <tr>\n",
              "      <th>10</th>\n",
              "      <td>25 000 casserole</td>\n",
              "      <td>this is a recipe that my mother got from some ...</td>\n",
              "    </tr>\n",
              "    <tr>\n",
              "      <th>11</th>\n",
              "      <td>250 00 chocolate chip cookies</td>\n",
              "      <td>these are great the perfect name for them</td>\n",
              "    </tr>\n",
              "  </tbody>\n",
              "</table>\n",
              "</div>\n",
              "      <button class=\"colab-df-convert\" onclick=\"convertToInteractive('df-64ae24af-b177-4a7f-8777-0862197e48d6')\"\n",
              "              title=\"Convert this dataframe to an interactive table.\"\n",
              "              style=\"display:none;\">\n",
              "        \n",
              "  <svg xmlns=\"http://www.w3.org/2000/svg\" height=\"24px\"viewBox=\"0 0 24 24\"\n",
              "       width=\"24px\">\n",
              "    <path d=\"M0 0h24v24H0V0z\" fill=\"none\"/>\n",
              "    <path d=\"M18.56 5.44l.94 2.06.94-2.06 2.06-.94-2.06-.94-.94-2.06-.94 2.06-2.06.94zm-11 1L8.5 8.5l.94-2.06 2.06-.94-2.06-.94L8.5 2.5l-.94 2.06-2.06.94zm10 10l.94 2.06.94-2.06 2.06-.94-2.06-.94-.94-2.06-.94 2.06-2.06.94z\"/><path d=\"M17.41 7.96l-1.37-1.37c-.4-.4-.92-.59-1.43-.59-.52 0-1.04.2-1.43.59L10.3 9.45l-7.72 7.72c-.78.78-.78 2.05 0 2.83L4 21.41c.39.39.9.59 1.41.59.51 0 1.02-.2 1.41-.59l7.78-7.78 2.81-2.81c.8-.78.8-2.07 0-2.86zM5.41 20L4 18.59l7.72-7.72 1.47 1.35L5.41 20z\"/>\n",
              "  </svg>\n",
              "      </button>\n",
              "      \n",
              "  <style>\n",
              "    .colab-df-container {\n",
              "      display:flex;\n",
              "      flex-wrap:wrap;\n",
              "      gap: 12px;\n",
              "    }\n",
              "\n",
              "    .colab-df-convert {\n",
              "      background-color: #E8F0FE;\n",
              "      border: none;\n",
              "      border-radius: 50%;\n",
              "      cursor: pointer;\n",
              "      display: none;\n",
              "      fill: #1967D2;\n",
              "      height: 32px;\n",
              "      padding: 0 0 0 0;\n",
              "      width: 32px;\n",
              "    }\n",
              "\n",
              "    .colab-df-convert:hover {\n",
              "      background-color: #E2EBFA;\n",
              "      box-shadow: 0px 1px 2px rgba(60, 64, 67, 0.3), 0px 1px 3px 1px rgba(60, 64, 67, 0.15);\n",
              "      fill: #174EA6;\n",
              "    }\n",
              "\n",
              "    [theme=dark] .colab-df-convert {\n",
              "      background-color: #3B4455;\n",
              "      fill: #D2E3FC;\n",
              "    }\n",
              "\n",
              "    [theme=dark] .colab-df-convert:hover {\n",
              "      background-color: #434B5C;\n",
              "      box-shadow: 0px 1px 3px 1px rgba(0, 0, 0, 0.15);\n",
              "      filter: drop-shadow(0px 1px 2px rgba(0, 0, 0, 0.3));\n",
              "      fill: #FFFFFF;\n",
              "    }\n",
              "  </style>\n",
              "\n",
              "      <script>\n",
              "        const buttonEl =\n",
              "          document.querySelector('#df-64ae24af-b177-4a7f-8777-0862197e48d6 button.colab-df-convert');\n",
              "        buttonEl.style.display =\n",
              "          google.colab.kernel.accessAllowed ? 'block' : 'none';\n",
              "\n",
              "        async function convertToInteractive(key) {\n",
              "          const element = document.querySelector('#df-64ae24af-b177-4a7f-8777-0862197e48d6');\n",
              "          const dataTable =\n",
              "            await google.colab.kernel.invokeFunction('convertToInteractive',\n",
              "                                                     [key], {});\n",
              "          if (!dataTable) return;\n",
              "\n",
              "          const docLinkHtml = 'Like what you see? Visit the ' +\n",
              "            '<a target=\"_blank\" href=https://colab.research.google.com/notebooks/data_table.ipynb>data table notebook</a>'\n",
              "            + ' to learn more about interactive tables.';\n",
              "          element.innerHTML = '';\n",
              "          dataTable['output_type'] = 'display_data';\n",
              "          await google.colab.output.renderOutput(dataTable, element);\n",
              "          const docLink = document.createElement('div');\n",
              "          docLink.innerHTML = docLinkHtml;\n",
              "          element.appendChild(docLink);\n",
              "        }\n",
              "      </script>\n",
              "    </div>\n",
              "  </div>\n",
              "  "
            ]
          },
          "metadata": {},
          "execution_count": 6
        }
      ]
    },
    {
      "cell_type": "markdown",
      "metadata": {
        "id": "jyQAqM9xrtup"
      },
      "source": [
        "1.2 Сгенерируйте 5 пар случайно выбранных слов и посчитайте между ними расстояние редактирования."
      ]
    },
    {
      "cell_type": "code",
      "source": [
        "from nltk.metrics.distance import edit_distance\n",
        "import nltk\n",
        "nltk.download('punkt')\n",
        "import nltk.tokenize\n",
        "from nltk.tokenize import word_tokenize\n",
        "import pandas as pd\n",
        "import random\n",
        "for i in range(5):\n",
        "  a =  random.randint(0,len(wordsie))\n",
        "  b = random.randint(0,len(wordsie))\n",
        "  dis = edit_distance(wordsie[a],wordsie[b])\n",
        "  print(f\"Расстояние между'{wordsie[a]}'и '{wordsie[b]}'-'{dis}' шагов\")\n"
      ],
      "metadata": {
        "colab": {
          "base_uri": "https://localhost:8080/"
        },
        "id": "xDIbsgLWxU7Q",
        "outputId": "a37a4fa4-ab5d-45f6-df23-3237f0125e10"
      },
      "execution_count": null,
      "outputs": [
        {
          "output_type": "stream",
          "name": "stdout",
          "text": [
            "Расстояние между'dishand'и 'iowa'-'5' шагов\n",
            "Расстояние между'mastercook'и 'total'-'9' шагов\n",
            "Расстояние между'strangely'и 'struggle'-'4' шагов\n",
            "Расстояние между'lifting'и 'mexicangerman'-'11' шагов\n",
            "Расстояние между'essences'и 'lacking'-'8' шагов\n"
          ]
        },
        {
          "output_type": "stream",
          "name": "stderr",
          "text": [
            "[nltk_data] Downloading package punkt to /root/nltk_data...\n",
            "[nltk_data]   Package punkt is already up-to-date!\n"
          ]
        }
      ]
    },
    {
      "cell_type": "markdown",
      "metadata": {
        "id": "swi5bQejrtup"
      },
      "source": [
        "1.3 Напишите функцию, которая для заданного слова `word` возвращает `k` ближайших к нему слов из списка `words` (близость слов измеряется с помощью расстояния Левенштейна)"
      ]
    },
    {
      "cell_type": "code",
      "source": [
        "clovo = int(input('Введите индекс слова от 0 до 32867: '))\n",
        "bliz = int(input('Сколько ближайших слов вы хотите получить?' ))\n",
        "import random\n",
        "mini = {}\n",
        "mini2 = {}\n",
        "for i in range(1,bliz+1):\n",
        "  d = edit_distance(wordsie[clovo],wordsie[clovo+i])\n",
        "  b = edit_distance(wordsie[clovo],wordsie[clovo-i])\n",
        "  #mini.append(wordsie[clovo+i])\n",
        "  #mini.append(d)\n",
        "  #mini.append(wordsie[clovo-i])\n",
        "  #mini.append(b)\n",
        "  mini[d] = wordsie[clovo+i]\n",
        "  mini2[b] = wordsie[clovo-i]\n",
        "  \n",
        "#mini.sort()\n",
        "  \n",
        "  #print(wordsie[clovo],'and',wordsie[clovo + i] ,mini[0])\n",
        "print(wordsie[clovo-1],wordsie[clovo],wordsie[clovo+1])\n",
        "print(mini)\n",
        "print(mini2)\n"
      ],
      "metadata": {
        "colab": {
          "base_uri": "https://localhost:8080/"
        },
        "id": "ujtHGPvn0HLf",
        "outputId": "9c81fbb9-e86d-48ee-8882-27f3a384d168"
      },
      "execution_count": null,
      "outputs": [
        {
          "output_type": "stream",
          "name": "stdout",
          "text": [
            "Введите индекс слова от 0 до 32867: 45\n",
            "Сколько ближайших слов вы хотите получить?6\n",
            "perfectsome goat general\n",
            "{5: 'general', 9: 'processing', 6: 'lisbon', 14: 'seasoningspices', 8: 'prettiest'}\n",
            "{10: 'perfectsome', 5: 'bueno', 15: 'quintessentially', 4: '24g'}\n"
          ]
        }
      ]
    },
    {
      "cell_type": "code",
      "source": [
        "def fun(word,k):\n",
        "  mini = {}\n",
        "  for i in wordsie:\n",
        "    mini[i] = edit_distance(i,word)\n",
        "  sorte = sorted(mini.items(),key = lambda x: x[1])\n",
        "  for i in dict(sorte[:k]).keys():\n",
        "    print(i)\n",
        "fun('goat', 11)"
      ],
      "metadata": {
        "colab": {
          "base_uri": "https://localhost:8080/"
        },
        "id": "7PAQYJdXGXlb",
        "outputId": "59bf1054-4bc8-4def-9637-fed51ea0a55e"
      },
      "execution_count": null,
      "outputs": [
        {
          "output_type": "stream",
          "name": "stdout",
          "text": [
            "goat\n",
            "goats\n",
            "goan\n",
            "oat\n",
            "poat\n",
            "coat\n",
            "goal\n",
            "agoat\n",
            "goa\n",
            "boat\n",
            "got\n"
          ]
        }
      ]
    },
    {
      "cell_type": "markdown",
      "metadata": {
        "id": "X8rwa845rtup"
      },
      "source": [
        "### Стемминг, лемматизация"
      ]
    },
    {
      "cell_type": "markdown",
      "metadata": {
        "id": "_cSozgWErtup"
      },
      "source": [
        "2.1 На основе результатов 1.1 создайте `pd.DataFrame` со столбцами: \n",
        "    * word\n",
        "    * stemmed_word \n",
        "    * normalized_word \n",
        "\n",
        "Столбец `word` укажите в качестве индекса. \n",
        "\n",
        "Для стемминга воспользуйтесь `SnowballStemmer`, для нормализации слов - `WordNetLemmatizer`. Сравните результаты стемминга и лемматизации."
      ]
    },
    {
      "cell_type": "code",
      "source": [
        "from numpy.lib.arraysetops import setxor1d\n",
        "from nltk.stem import SnowballStemmer\n",
        "import pandas as pd\n",
        "from nltk.stem import WordNetLemmatizer\n",
        "stemming = SnowballStemmer('english')\n",
        "stemming.stem('goats')\n",
        "lize = WordNetLemmatizer()\n",
        "#lize.lemmatize(\"rocks\")\n",
        "s1 = []\n",
        "m = []\n",
        "for i in wordsie:\n",
        "  a = stemming.stem(i)\n",
        "  s1.append(a)\n",
        "newwordsie = pd.DataFrame({'stemmed_word': s1})\n",
        "newwordsie.index = wordsie\n",
        "newwordsie"
      ],
      "metadata": {
        "colab": {
          "base_uri": "https://localhost:8080/",
          "height": 423
        },
        "id": "PgAy7VbOKZoe",
        "outputId": "a4a3831d-1148-44b6-d98a-dc84c73197cd"
      },
      "execution_count": null,
      "outputs": [
        {
          "output_type": "execute_result",
          "data": {
            "text/plain": [
              "           stemmed_word\n",
              "xanthan         xanthan\n",
              "seasonally       season\n",
              "chic               chic\n",
              "9pm                 9pm\n",
              "flu                 flu\n",
              "...                 ...\n",
              "disgusting      disgust\n",
              "fennel           fennel\n",
              "pleasing          pleas\n",
              "kidadult       kidadult\n",
              "honduran       honduran\n",
              "\n",
              "[32868 rows x 1 columns]"
            ],
            "text/html": [
              "\n",
              "  <div id=\"df-17eae02e-73d5-41b8-9f00-b256bcdd928f\">\n",
              "    <div class=\"colab-df-container\">\n",
              "      <div>\n",
              "<style scoped>\n",
              "    .dataframe tbody tr th:only-of-type {\n",
              "        vertical-align: middle;\n",
              "    }\n",
              "\n",
              "    .dataframe tbody tr th {\n",
              "        vertical-align: top;\n",
              "    }\n",
              "\n",
              "    .dataframe thead th {\n",
              "        text-align: right;\n",
              "    }\n",
              "</style>\n",
              "<table border=\"1\" class=\"dataframe\">\n",
              "  <thead>\n",
              "    <tr style=\"text-align: right;\">\n",
              "      <th></th>\n",
              "      <th>stemmed_word</th>\n",
              "    </tr>\n",
              "  </thead>\n",
              "  <tbody>\n",
              "    <tr>\n",
              "      <th>xanthan</th>\n",
              "      <td>xanthan</td>\n",
              "    </tr>\n",
              "    <tr>\n",
              "      <th>seasonally</th>\n",
              "      <td>season</td>\n",
              "    </tr>\n",
              "    <tr>\n",
              "      <th>chic</th>\n",
              "      <td>chic</td>\n",
              "    </tr>\n",
              "    <tr>\n",
              "      <th>9pm</th>\n",
              "      <td>9pm</td>\n",
              "    </tr>\n",
              "    <tr>\n",
              "      <th>flu</th>\n",
              "      <td>flu</td>\n",
              "    </tr>\n",
              "    <tr>\n",
              "      <th>...</th>\n",
              "      <td>...</td>\n",
              "    </tr>\n",
              "    <tr>\n",
              "      <th>disgusting</th>\n",
              "      <td>disgust</td>\n",
              "    </tr>\n",
              "    <tr>\n",
              "      <th>fennel</th>\n",
              "      <td>fennel</td>\n",
              "    </tr>\n",
              "    <tr>\n",
              "      <th>pleasing</th>\n",
              "      <td>pleas</td>\n",
              "    </tr>\n",
              "    <tr>\n",
              "      <th>kidadult</th>\n",
              "      <td>kidadult</td>\n",
              "    </tr>\n",
              "    <tr>\n",
              "      <th>honduran</th>\n",
              "      <td>honduran</td>\n",
              "    </tr>\n",
              "  </tbody>\n",
              "</table>\n",
              "<p>32868 rows × 1 columns</p>\n",
              "</div>\n",
              "      <button class=\"colab-df-convert\" onclick=\"convertToInteractive('df-17eae02e-73d5-41b8-9f00-b256bcdd928f')\"\n",
              "              title=\"Convert this dataframe to an interactive table.\"\n",
              "              style=\"display:none;\">\n",
              "        \n",
              "  <svg xmlns=\"http://www.w3.org/2000/svg\" height=\"24px\"viewBox=\"0 0 24 24\"\n",
              "       width=\"24px\">\n",
              "    <path d=\"M0 0h24v24H0V0z\" fill=\"none\"/>\n",
              "    <path d=\"M18.56 5.44l.94 2.06.94-2.06 2.06-.94-2.06-.94-.94-2.06-.94 2.06-2.06.94zm-11 1L8.5 8.5l.94-2.06 2.06-.94-2.06-.94L8.5 2.5l-.94 2.06-2.06.94zm10 10l.94 2.06.94-2.06 2.06-.94-2.06-.94-.94-2.06-.94 2.06-2.06.94z\"/><path d=\"M17.41 7.96l-1.37-1.37c-.4-.4-.92-.59-1.43-.59-.52 0-1.04.2-1.43.59L10.3 9.45l-7.72 7.72c-.78.78-.78 2.05 0 2.83L4 21.41c.39.39.9.59 1.41.59.51 0 1.02-.2 1.41-.59l7.78-7.78 2.81-2.81c.8-.78.8-2.07 0-2.86zM5.41 20L4 18.59l7.72-7.72 1.47 1.35L5.41 20z\"/>\n",
              "  </svg>\n",
              "      </button>\n",
              "      \n",
              "  <style>\n",
              "    .colab-df-container {\n",
              "      display:flex;\n",
              "      flex-wrap:wrap;\n",
              "      gap: 12px;\n",
              "    }\n",
              "\n",
              "    .colab-df-convert {\n",
              "      background-color: #E8F0FE;\n",
              "      border: none;\n",
              "      border-radius: 50%;\n",
              "      cursor: pointer;\n",
              "      display: none;\n",
              "      fill: #1967D2;\n",
              "      height: 32px;\n",
              "      padding: 0 0 0 0;\n",
              "      width: 32px;\n",
              "    }\n",
              "\n",
              "    .colab-df-convert:hover {\n",
              "      background-color: #E2EBFA;\n",
              "      box-shadow: 0px 1px 2px rgba(60, 64, 67, 0.3), 0px 1px 3px 1px rgba(60, 64, 67, 0.15);\n",
              "      fill: #174EA6;\n",
              "    }\n",
              "\n",
              "    [theme=dark] .colab-df-convert {\n",
              "      background-color: #3B4455;\n",
              "      fill: #D2E3FC;\n",
              "    }\n",
              "\n",
              "    [theme=dark] .colab-df-convert:hover {\n",
              "      background-color: #434B5C;\n",
              "      box-shadow: 0px 1px 3px 1px rgba(0, 0, 0, 0.15);\n",
              "      filter: drop-shadow(0px 1px 2px rgba(0, 0, 0, 0.3));\n",
              "      fill: #FFFFFF;\n",
              "    }\n",
              "  </style>\n",
              "\n",
              "      <script>\n",
              "        const buttonEl =\n",
              "          document.querySelector('#df-17eae02e-73d5-41b8-9f00-b256bcdd928f button.colab-df-convert');\n",
              "        buttonEl.style.display =\n",
              "          google.colab.kernel.accessAllowed ? 'block' : 'none';\n",
              "\n",
              "        async function convertToInteractive(key) {\n",
              "          const element = document.querySelector('#df-17eae02e-73d5-41b8-9f00-b256bcdd928f');\n",
              "          const dataTable =\n",
              "            await google.colab.kernel.invokeFunction('convertToInteractive',\n",
              "                                                     [key], {});\n",
              "          if (!dataTable) return;\n",
              "\n",
              "          const docLinkHtml = 'Like what you see? Visit the ' +\n",
              "            '<a target=\"_blank\" href=https://colab.research.google.com/notebooks/data_table.ipynb>data table notebook</a>'\n",
              "            + ' to learn more about interactive tables.';\n",
              "          element.innerHTML = '';\n",
              "          dataTable['output_type'] = 'display_data';\n",
              "          await google.colab.output.renderOutput(dataTable, element);\n",
              "          const docLink = document.createElement('div');\n",
              "          docLink.innerHTML = docLinkHtml;\n",
              "          element.appendChild(docLink);\n",
              "        }\n",
              "      </script>\n",
              "    </div>\n",
              "  </div>\n",
              "  "
            ]
          },
          "metadata": {},
          "execution_count": 75
        }
      ]
    },
    {
      "cell_type": "markdown",
      "metadata": {
        "id": "V-qtUXiErtup"
      },
      "source": [
        "2.2. Удалите стоп-слова из описаний рецептов. Какую долю об общего количества слов составляли стоп-слова? Сравните топ-10 самых часто употребляемых слов до и после удаления стоп-слов."
      ]
    },
    {
      "cell_type": "code",
      "source": [
        "nltk.download(\"stopwords\")\n",
        "from nltk.corpus import stopwords\n",
        "from nltk.tokenize import word_tokenize\n",
        "stop_words = set(stopwords.words(\"english\"))\n",
        "filtered_list = []\n",
        "for i in wordsie:\n",
        "  if i not in stop_words:\n",
        "    filtered_list.append(i)\n",
        "print(len(wordsie))\n",
        "print(len(filtered_list))\n",
        "print('Стоп-слова составляют: ')\n",
        "print((len(wordsie)-len(filtered_list))/len(wordsie))\n"
      ],
      "metadata": {
        "colab": {
          "base_uri": "https://localhost:8080/"
        },
        "id": "4zaJ52ACPtO7",
        "outputId": "3c58573d-cf31-4790-bfa6-558711af6cb0"
      },
      "execution_count": null,
      "outputs": [
        {
          "output_type": "stream",
          "name": "stdout",
          "text": [
            "32868\n",
            "32732\n",
            "Стоп-слова составляют: \n",
            "0.004137763173907752\n"
          ]
        },
        {
          "output_type": "stream",
          "name": "stderr",
          "text": [
            "[nltk_data] Downloading package stopwords to /root/nltk_data...\n",
            "[nltk_data]   Package stopwords is already up-to-date!\n"
          ]
        }
      ]
    },
    {
      "cell_type": "code",
      "source": [],
      "metadata": {
        "id": "5C5_EcR7R7JK"
      },
      "execution_count": null,
      "outputs": []
    },
    {
      "cell_type": "markdown",
      "metadata": {
        "id": "wiqCleYVrtup"
      },
      "source": [
        "### Векторное представление текста"
      ]
    },
    {
      "cell_type": "markdown",
      "metadata": {
        "id": "fl8budKertup"
      },
      "source": [
        "3.1 Выберите случайным образом 5 рецептов из набора данных. Представьте описание каждого рецепта в виде числового вектора при помощи `TfidfVectorizer`"
      ]
    },
    {
      "cell_type": "code",
      "source": [
        "import random\n",
        "from random import randint\n",
        "s = []\n",
        "data = pd.read_csv('preprocessed_descriptions.csv')\n",
        "for i in range(5):\n",
        "  a =  random.randint(0,len(data.name))\n",
        "  s.append(data.preprocessed_descriptions[a])\n",
        "  #s.append(a)\n",
        "print(s)\n",
        "\n"
      ],
      "metadata": {
        "colab": {
          "base_uri": "https://localhost:8080/"
        },
        "id": "Avg1tABNP3Ww",
        "outputId": "484f37bc-73ff-41ee-d78d-d55528d86c64"
      },
      "execution_count": null,
      "outputs": [
        {
          "output_type": "stream",
          "name": "stdout",
          "text": [
            "['this is a delicious dish that includes beans pasta and sausage meat all in one topped with cheese then baked in the oven its a very popular italian dish and there are many versions of this recipe this one is a family favorite i hope you enjoy this as much as my family does  if you prefer a dryer mixture then drain the tomatoes ziti pasta works well in place of penne please adjust the cayenne pepper to suit heat level prep time includes cooking the pasta', 'this is not like regular french toast its more like a rich soft moist bread pudding that can be sliced and served with syrup its perfect for brunch and can also be served for dessert this recipe comes from the chicago tribune', 'what could be more french countryside than pulling a chilled bottle of homemade or at least homedoctored wine from the fridge for a special celebration this orange sipping wine is a little sweeter and stronger than a regular glass of white and its the perfect aperitif cook time is chill time', 'i came up with this recipe because i had a craving for a decadent dessert but was on a diet then spotted a tub of cream cheese that wasnt going to be eaten and came up with this delicious trifle dont tell them its good for them they will never know  try it with blueberries', 'this is great now that its starting to get cold on the east coast  the goat cheese just adds that extra zing its easy quick and classic i like it with the chavrie herb flavored goat cheese']\n"
          ]
        }
      ]
    },
    {
      "cell_type": "code",
      "source": [
        "from sklearn.feature_extraction.text import (TfidfVectorizer,CountVectorizer)\n",
        "vectorizer = TfidfVectorizer()\n",
        "cor = vectorizer.fit_transform(s)\n",
        "cor.toarray()"
      ],
      "metadata": {
        "colab": {
          "base_uri": "https://localhost:8080/"
        },
        "id": "XPhRemmAUrki",
        "outputId": "8648c1b9-25a4-41d5-9099-90a852f064f8"
      },
      "execution_count": null,
      "outputs": [
        {
          "output_type": "execute_result",
          "data": {
            "text/plain": [
              "array([[0.        , 0.09960431, 0.09960431, 0.        , 0.09492398,\n",
              "        0.        , 0.09960431, 0.19920863, 0.        , 0.09960431,\n",
              "        0.        , 0.09960431, 0.        , 0.        , 0.        ,\n",
              "        0.        , 0.        , 0.        , 0.        , 0.        ,\n",
              "        0.09960431, 0.        , 0.        , 0.06670617, 0.        ,\n",
              "        0.        , 0.        , 0.        , 0.        , 0.        ,\n",
              "        0.        , 0.        , 0.09960431, 0.        , 0.        ,\n",
              "        0.        , 0.        , 0.        , 0.08036013, 0.        ,\n",
              "        0.        , 0.19920863, 0.09960431, 0.        , 0.09960431,\n",
              "        0.09960431, 0.        , 0.        , 0.        , 0.09960431,\n",
              "        0.        , 0.19920863, 0.09960431, 0.        , 0.        ,\n",
              "        0.        , 0.        , 0.        , 0.        , 0.        ,\n",
              "        0.        , 0.        , 0.        , 0.        , 0.        ,\n",
              "        0.09960431, 0.        , 0.        , 0.        , 0.09960431,\n",
              "        0.09960431, 0.29881294, 0.19920863, 0.11223067, 0.        ,\n",
              "        0.09960431, 0.04746199, 0.        , 0.        , 0.        ,\n",
              "        0.09960431, 0.        , 0.        , 0.09960431, 0.09960431,\n",
              "        0.09960431, 0.        , 0.        , 0.09960431, 0.09960431,\n",
              "        0.        , 0.        , 0.        , 0.13341234, 0.        ,\n",
              "        0.19920863, 0.        , 0.        , 0.09960431, 0.29881294,\n",
              "        0.09960431, 0.09960431, 0.        , 0.09960431, 0.09960431,\n",
              "        0.09960431, 0.09960431, 0.09960431, 0.        , 0.        ,\n",
              "        0.        , 0.06670617, 0.        , 0.        , 0.09960431,\n",
              "        0.        , 0.        , 0.        , 0.        , 0.        ,\n",
              "        0.        , 0.        , 0.        , 0.09960431, 0.        ,\n",
              "        0.        , 0.        , 0.        , 0.05611533, 0.22446133,\n",
              "        0.        , 0.16072027, 0.09960431, 0.        , 0.18984796,\n",
              "        0.08036013, 0.06670617, 0.        , 0.09960431, 0.09960431,\n",
              "        0.        , 0.        , 0.        , 0.        , 0.        ,\n",
              "        0.09960431, 0.09960431, 0.        , 0.        , 0.09960431,\n",
              "        0.        , 0.        , 0.        , 0.        , 0.05611533,\n",
              "        0.09960431, 0.19920863, 0.        , 0.09960431],\n",
              "       [0.        , 0.        , 0.        , 0.16543039, 0.15765694,\n",
              "        0.        , 0.        , 0.        , 0.        , 0.        ,\n",
              "        0.22158132, 0.        , 0.        , 0.        , 0.        ,\n",
              "        0.16543039, 0.16543039, 0.        , 0.        , 0.33086079,\n",
              "        0.        , 0.        , 0.        , 0.        , 0.16543039,\n",
              "        0.        , 0.        , 0.        , 0.        , 0.        ,\n",
              "        0.16543039, 0.        , 0.        , 0.        , 0.        ,\n",
              "        0.        , 0.        , 0.        , 0.        , 0.1334682 ,\n",
              "        0.        , 0.        , 0.        , 0.        , 0.        ,\n",
              "        0.        , 0.        , 0.        , 0.        , 0.        ,\n",
              "        0.        , 0.        , 0.        , 0.        , 0.22158132,\n",
              "        0.1334682 , 0.        , 0.1334682 , 0.        , 0.        ,\n",
              "        0.        , 0.        , 0.        , 0.        , 0.        ,\n",
              "        0.        , 0.        , 0.        , 0.        , 0.        ,\n",
              "        0.        , 0.        , 0.        , 0.0932006 , 0.        ,\n",
              "        0.        , 0.15765694, 0.        , 0.        , 0.        ,\n",
              "        0.        , 0.2669364 , 0.        , 0.        , 0.        ,\n",
              "        0.        , 0.16543039, 0.1334682 , 0.        , 0.        ,\n",
              "        0.        , 0.16543039, 0.        , 0.        , 0.        ,\n",
              "        0.        , 0.        , 0.        , 0.        , 0.        ,\n",
              "        0.        , 0.        , 0.1334682 , 0.        , 0.        ,\n",
              "        0.        , 0.        , 0.        , 0.16543039, 0.        ,\n",
              "        0.        , 0.11079066, 0.1334682 , 0.16543039, 0.        ,\n",
              "        0.33086079, 0.        , 0.16543039, 0.16543039, 0.        ,\n",
              "        0.        , 0.        , 0.        , 0.        , 0.        ,\n",
              "        0.16543039, 0.        , 0.        , 0.0932006 , 0.0932006 ,\n",
              "        0.        , 0.        , 0.        , 0.        , 0.15765694,\n",
              "        0.        , 0.        , 0.16543039, 0.        , 0.        ,\n",
              "        0.16543039, 0.        , 0.        , 0.        , 0.        ,\n",
              "        0.        , 0.        , 0.        , 0.        , 0.        ,\n",
              "        0.        , 0.        , 0.        , 0.        , 0.0932006 ,\n",
              "        0.        , 0.        , 0.        , 0.        ],\n",
              "       [0.        , 0.        , 0.        , 0.        , 0.14294127,\n",
              "        0.14998916, 0.        , 0.        , 0.14998916, 0.        ,\n",
              "        0.10044949, 0.        , 0.        , 0.        , 0.14998916,\n",
              "        0.        , 0.        , 0.        , 0.        , 0.        ,\n",
              "        0.        , 0.14998916, 0.        , 0.        , 0.        ,\n",
              "        0.14998916, 0.14998916, 0.        , 0.        , 0.        ,\n",
              "        0.        , 0.14998916, 0.        , 0.14998916, 0.14998916,\n",
              "        0.        , 0.        , 0.        , 0.        , 0.        ,\n",
              "        0.        , 0.        , 0.        , 0.        , 0.        ,\n",
              "        0.        , 0.        , 0.        , 0.        , 0.        ,\n",
              "        0.        , 0.        , 0.        , 0.        , 0.10044949,\n",
              "        0.12101031, 0.14998916, 0.12101031, 0.        , 0.14998916,\n",
              "        0.        , 0.        , 0.        , 0.        , 0.        ,\n",
              "        0.        , 0.        , 0.14998916, 0.14998916, 0.        ,\n",
              "        0.        , 0.        , 0.        , 0.16900255, 0.        ,\n",
              "        0.        , 0.07147064, 0.        , 0.        , 0.14998916,\n",
              "        0.        , 0.        , 0.14998916, 0.        , 0.        ,\n",
              "        0.        , 0.        , 0.12101031, 0.        , 0.        ,\n",
              "        0.        , 0.        , 0.        , 0.20089897, 0.        ,\n",
              "        0.        , 0.14998916, 0.14998916, 0.        , 0.        ,\n",
              "        0.        , 0.        , 0.12101031, 0.        , 0.        ,\n",
              "        0.        , 0.        , 0.        , 0.        , 0.14998916,\n",
              "        0.        , 0.        , 0.12101031, 0.        , 0.        ,\n",
              "        0.        , 0.14998916, 0.        , 0.        , 0.14998916,\n",
              "        0.        , 0.        , 0.14998916, 0.        , 0.14998916,\n",
              "        0.        , 0.        , 0.29997832, 0.        , 0.16900255,\n",
              "        0.        , 0.        , 0.        , 0.        , 0.07147064,\n",
              "        0.24202062, 0.        , 0.        , 0.        , 0.        ,\n",
              "        0.        , 0.        , 0.        , 0.        , 0.        ,\n",
              "        0.        , 0.        , 0.        , 0.        , 0.        ,\n",
              "        0.14998916, 0.14998916, 0.        , 0.29997832, 0.        ,\n",
              "        0.        , 0.        , 0.        , 0.        ],\n",
              "       [0.        , 0.        , 0.        , 0.        , 0.06963332,\n",
              "        0.        , 0.        , 0.        , 0.        , 0.        ,\n",
              "        0.0978672 , 0.        , 0.14613334, 0.14613334, 0.        ,\n",
              "        0.        , 0.        , 0.14613334, 0.29226667, 0.        ,\n",
              "        0.        , 0.        , 0.        , 0.0978672 , 0.        ,\n",
              "        0.        , 0.        , 0.        , 0.        , 0.        ,\n",
              "        0.        , 0.        , 0.        , 0.        , 0.        ,\n",
              "        0.14613334, 0.14613334, 0.14613334, 0.11789945, 0.11789945,\n",
              "        0.14613334, 0.        , 0.        , 0.14613334, 0.        ,\n",
              "        0.        , 0.        , 0.        , 0.14613334, 0.        ,\n",
              "        0.        , 0.        , 0.        , 0.        , 0.1957344 ,\n",
              "        0.        , 0.        , 0.        , 0.        , 0.        ,\n",
              "        0.        , 0.14613334, 0.14613334, 0.        , 0.14613334,\n",
              "        0.        , 0.        , 0.        , 0.        , 0.        ,\n",
              "        0.        , 0.        , 0.        , 0.        , 0.11789945,\n",
              "        0.        , 0.06963332, 0.        , 0.14613334, 0.        ,\n",
              "        0.        , 0.        , 0.        , 0.        , 0.        ,\n",
              "        0.        , 0.        , 0.        , 0.        , 0.        ,\n",
              "        0.14613334, 0.        , 0.        , 0.0978672 , 0.11789945,\n",
              "        0.        , 0.        , 0.        , 0.        , 0.        ,\n",
              "        0.        , 0.        , 0.        , 0.        , 0.        ,\n",
              "        0.        , 0.        , 0.        , 0.        , 0.        ,\n",
              "        0.        , 0.0978672 , 0.        , 0.        , 0.        ,\n",
              "        0.        , 0.        , 0.        , 0.        , 0.        ,\n",
              "        0.14613334, 0.        , 0.        , 0.        , 0.        ,\n",
              "        0.        , 0.14613334, 0.        , 0.08232897, 0.        ,\n",
              "        0.29226667, 0.11789945, 0.        , 0.14613334, 0.13926663,\n",
              "        0.        , 0.0978672 , 0.        , 0.        , 0.        ,\n",
              "        0.        , 0.14613334, 0.14613334, 0.14613334, 0.29226667,\n",
              "        0.        , 0.        , 0.14613334, 0.14613334, 0.        ,\n",
              "        0.        , 0.        , 0.14613334, 0.        , 0.24698692,\n",
              "        0.        , 0.        , 0.        , 0.        ],\n",
              "       [0.17868925, 0.        , 0.        , 0.        , 0.08514638,\n",
              "        0.        , 0.        , 0.        , 0.        , 0.        ,\n",
              "        0.        , 0.        , 0.        , 0.        , 0.        ,\n",
              "        0.        , 0.        , 0.        , 0.        , 0.        ,\n",
              "        0.        , 0.        , 0.17868925, 0.23934054, 0.        ,\n",
              "        0.        , 0.        , 0.17868925, 0.17868925, 0.17868925,\n",
              "        0.        , 0.        , 0.        , 0.        , 0.        ,\n",
              "        0.        , 0.        , 0.        , 0.        , 0.        ,\n",
              "        0.        , 0.        , 0.        , 0.        , 0.        ,\n",
              "        0.        , 0.17868925, 0.17868925, 0.        , 0.        ,\n",
              "        0.17868925, 0.        , 0.        , 0.17868925, 0.        ,\n",
              "        0.        , 0.        , 0.        , 0.17868925, 0.        ,\n",
              "        0.35737849, 0.        , 0.        , 0.17868925, 0.        ,\n",
              "        0.        , 0.17868925, 0.        , 0.        , 0.        ,\n",
              "        0.        , 0.        , 0.        , 0.1006704 , 0.14416536,\n",
              "        0.        , 0.17029277, 0.17868925, 0.        , 0.        ,\n",
              "        0.        , 0.14416536, 0.        , 0.        , 0.        ,\n",
              "        0.        , 0.        , 0.        , 0.        , 0.        ,\n",
              "        0.        , 0.        , 0.17868925, 0.        , 0.14416536,\n",
              "        0.        , 0.        , 0.        , 0.        , 0.        ,\n",
              "        0.        , 0.        , 0.        , 0.        , 0.        ,\n",
              "        0.        , 0.        , 0.        , 0.        , 0.        ,\n",
              "        0.17868925, 0.        , 0.        , 0.        , 0.        ,\n",
              "        0.        , 0.        , 0.        , 0.        , 0.        ,\n",
              "        0.        , 0.17868925, 0.        , 0.        , 0.        ,\n",
              "        0.        , 0.        , 0.        , 0.20134081, 0.30201121,\n",
              "        0.        , 0.        , 0.        , 0.        , 0.08514638,\n",
              "        0.        , 0.11967027, 0.        , 0.        , 0.        ,\n",
              "        0.        , 0.        , 0.        , 0.        , 0.        ,\n",
              "        0.        , 0.        , 0.        , 0.        , 0.        ,\n",
              "        0.        , 0.        , 0.        , 0.        , 0.1006704 ,\n",
              "        0.        , 0.        , 0.17868925, 0.        ]])"
            ]
          },
          "metadata": {},
          "execution_count": 32
        }
      ]
    },
    {
      "cell_type": "markdown",
      "metadata": {
        "id": "2YOGoQGlrtuq"
      },
      "source": [
        "3.2 Вычислите близость между каждой парой рецептов, выбранных в задании 3.1, используя косинусное расстояние (`scipy.spatial.distance.cosine`) Результаты оформите в виде таблицы `pd.DataFrame`. В качестве названий строк и столбцов используйте названия рецептов."
      ]
    },
    {
      "cell_type": "code",
      "source": [],
      "metadata": {
        "id": "weQjjj0BX1sL"
      },
      "execution_count": null,
      "outputs": []
    },
    {
      "cell_type": "markdown",
      "metadata": {
        "id": "em0jIJBzrtuq"
      },
      "source": [
        "3.3 Какие рецепты являются наиболее похожими? Прокомментируйте результат (словами)."
      ]
    },
    {
      "cell_type": "code",
      "execution_count": null,
      "metadata": {
        "id": "ZoByubWYrtuq"
      },
      "outputs": [],
      "source": []
    }
  ],
  "metadata": {
    "kernelspec": {
      "display_name": "Python 3 (ipykernel)",
      "language": "python",
      "name": "python3"
    },
    "language_info": {
      "codemirror_mode": {
        "name": "ipython",
        "version": 3
      },
      "file_extension": ".py",
      "mimetype": "text/x-python",
      "name": "python",
      "nbconvert_exporter": "python",
      "pygments_lexer": "ipython3",
      "version": "3.9.12"
    },
    "colab": {
      "provenance": []
    }
  },
  "nbformat": 4,
  "nbformat_minor": 0
}