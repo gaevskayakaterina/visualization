{
  "cells": [
    {
      "cell_type": "markdown",
      "metadata": {
        "id": "3CB1HVlElNz5"
      },
      "source": [
        "## Оптимизация выполнения кода, векторизация, Numba"
      ]
    },
    {
      "cell_type": "markdown",
      "metadata": {
        "id": "Z3D-Z4EdlNz7"
      },
      "source": [
        "Материалы:\n",
        "* Макрушин С.В. Лекция 3: Оптимизация выполнения кода, векторизация, Numba\n",
        "* IPython Cookbook, Second Edition (2018), глава 4\n",
        "* https://numba.pydata.org/numba-doc/latest/user/5minguide.html"
      ]
    },
    {
      "cell_type": "markdown",
      "metadata": {
        "id": "QYeNJJ8LlNz8"
      },
      "source": [
        "## Задачи для совместного разбора"
      ]
    },
    {
      "cell_type": "markdown",
      "metadata": {
        "id": "NdgK1_4AlNz8"
      },
      "source": [
        "1. Сгенерируйте массив `A` из `N=1млн` случайных целых чисел на отрезке от 0 до 1000. Пусть `B[i] = A[i] + 100`. Посчитайте среднее значение массива `B`."
      ]
    },
    {
      "cell_type": "code",
      "execution_count": null,
      "metadata": {
        "id": "XlxGUz2llNz8"
      },
      "outputs": [],
      "source": [
        "import numpy as np\n",
        "\n",
        "A = np.random.randint(0,1000,size=(1000000,))"
      ]
    },
    {
      "cell_type": "code",
      "source": [
        "import time\n",
        "import pandas as pd\n",
        "from numba import jit,njit\n",
        "\n",
        "\n",
        "def f1(x):\n",
        "  start = time.time()\n",
        "  acc,cnt = 0,0\n",
        "  for x in A:\n",
        "    acc += (x+100)\n",
        "    cnt += 1\n",
        "  a = acc/cnt\n",
        "  end = time.time()\n",
        "  print(\"Время выполнения \",end-start)\n",
        "  return a\n",
        "  \n",
        "\n",
        "def f2(x):\n",
        "  start = time.time()\n",
        "  acc = 0\n",
        "  for x in A:\n",
        "    acc += (x+100)\n",
        "  a = acc/(len(A))\n",
        "  end = time.time()\n",
        "  print(\"Время выполнения \",end-start)\n",
        "  return a\n",
        "\n",
        "@njit\n",
        "def f3(x):\n",
        "  #start = time.time()\n",
        "  acc = 0\n",
        "  for x in A:\n",
        "    acc += x\n",
        "  a = acc/len(A)+100\n",
        "  #end = time.time()\n",
        "  #print(\"Время выполнения \",end-start)\n",
        "  return a\n",
        "\n",
        "print(f1(A))\n",
        "print(f2(A))\n",
        "print(f3(A))\n",
        "\n",
        "\n"
      ],
      "metadata": {
        "colab": {
          "base_uri": "https://localhost:8080/"
        },
        "id": "lP1xPhWeG2Rh",
        "outputId": "2c9cf20b-9797-42ed-fa08-b7d2797d8831"
      },
      "execution_count": null,
      "outputs": [
        {
          "output_type": "stream",
          "name": "stdout",
          "text": [
            "Время выполнения  0.34353208541870117\n",
            "599.402038\n",
            "Время выполнения  0.2887997627258301\n",
            "599.402038\n",
            "599.402038\n"
          ]
        }
      ]
    },
    {
      "cell_type": "markdown",
      "metadata": {
        "id": "h1rv_BSMlNz9"
      },
      "source": [
        "2. Создайте таблицу 2млн строк и с 4 столбцами, заполненными случайными числами. Добавьте столбец `key`, которые содержит элементы из множества английских букв. Выберите из таблицы подмножество строк, для которых в столбце `key` указаны первые 5 английских букв."
      ]
    },
    {
      "cell_type": "code",
      "source": [
        "import string \n",
        "N = 2_000_000\n",
        "#, columns=[f'col{i}' for i in range(4)]\n",
        "df = pd.DataFrame(np.random.randn(N,4))\n",
        "df['key'] = np.random.choice(list(string.ascii_letters.lower()),N, replace = True)\n",
        "s = []\n",
        "for i in range(N):\n",
        "  df.key[i] = 'a'\n",
        "  s.append(df.[i])\n",
        "for j in range(N):\n",
        "  df.key[j] = 'b'\n",
        "  s.append(df[j])\n",
        "for k in range(N):\n",
        "  df.key[k] = 'c'\n",
        "  s.append(df[k])\n",
        "for p in range(N):\n",
        "  df.key[p] = 'd'\n",
        "  s.append(df[p])\n",
        "for q in range(N):\n",
        "  df.key[q] = 'e'\n",
        "  s.append(df[q])\n",
        "\n",
        "    \n",
        "\n",
        "print(s)\n"
      ],
      "metadata": {
        "colab": {
          "base_uri": "https://localhost:8080/",
          "height": 678
        },
        "id": "_-_4dqwlO-yp",
        "outputId": "3fff6cc1-dcce-48ac-c06b-0f89e1ca500f"
      },
      "execution_count": null,
      "outputs": [
        {
          "output_type": "stream",
          "name": "stderr",
          "text": [
            "<ipython-input-43-f8c558e3ddbb>:8: SettingWithCopyWarning: \n",
            "A value is trying to be set on a copy of a slice from a DataFrame\n",
            "\n",
            "See the caveats in the documentation: https://pandas.pydata.org/pandas-docs/stable/user_guide/indexing.html#returning-a-view-versus-a-copy\n",
            "  df.key[i] = 'a'\n"
          ]
        },
        {
          "output_type": "error",
          "ename": "KeyError",
          "evalue": "ignored",
          "traceback": [
            "\u001b[0;31m---------------------------------------------------------------------------\u001b[0m",
            "\u001b[0;31mKeyError\u001b[0m                                  Traceback (most recent call last)",
            "\u001b[0;32m/usr/local/lib/python3.10/dist-packages/pandas/core/indexes/base.py\u001b[0m in \u001b[0;36mget_loc\u001b[0;34m(self, key, method, tolerance)\u001b[0m\n\u001b[1;32m   3801\u001b[0m             \u001b[0;32mtry\u001b[0m\u001b[0;34m:\u001b[0m\u001b[0;34m\u001b[0m\u001b[0;34m\u001b[0m\u001b[0m\n\u001b[0;32m-> 3802\u001b[0;31m                 \u001b[0;32mreturn\u001b[0m \u001b[0mself\u001b[0m\u001b[0;34m.\u001b[0m\u001b[0m_engine\u001b[0m\u001b[0;34m.\u001b[0m\u001b[0mget_loc\u001b[0m\u001b[0;34m(\u001b[0m\u001b[0mcasted_key\u001b[0m\u001b[0;34m)\u001b[0m\u001b[0;34m\u001b[0m\u001b[0;34m\u001b[0m\u001b[0m\n\u001b[0m\u001b[1;32m   3803\u001b[0m             \u001b[0;32mexcept\u001b[0m \u001b[0mKeyError\u001b[0m \u001b[0;32mas\u001b[0m \u001b[0merr\u001b[0m\u001b[0;34m:\u001b[0m\u001b[0;34m\u001b[0m\u001b[0;34m\u001b[0m\u001b[0m\n",
            "\u001b[0;32m/usr/local/lib/python3.10/dist-packages/pandas/_libs/index.pyx\u001b[0m in \u001b[0;36mpandas._libs.index.IndexEngine.get_loc\u001b[0;34m()\u001b[0m\n",
            "\u001b[0;32m/usr/local/lib/python3.10/dist-packages/pandas/_libs/index.pyx\u001b[0m in \u001b[0;36mpandas._libs.index.IndexEngine.get_loc\u001b[0;34m()\u001b[0m\n",
            "\u001b[0;32mpandas/_libs/hashtable_class_helper.pxi\u001b[0m in \u001b[0;36mpandas._libs.hashtable.PyObjectHashTable.get_item\u001b[0;34m()\u001b[0m\n",
            "\u001b[0;32mpandas/_libs/hashtable_class_helper.pxi\u001b[0m in \u001b[0;36mpandas._libs.hashtable.PyObjectHashTable.get_item\u001b[0;34m()\u001b[0m\n",
            "\u001b[0;31mKeyError\u001b[0m: 4",
            "\nThe above exception was the direct cause of the following exception:\n",
            "\u001b[0;31mKeyError\u001b[0m                                  Traceback (most recent call last)",
            "\u001b[0;32m<ipython-input-43-f8c558e3ddbb>\u001b[0m in \u001b[0;36m<cell line: 7>\u001b[0;34m()\u001b[0m\n\u001b[1;32m      7\u001b[0m \u001b[0;32mfor\u001b[0m \u001b[0mi\u001b[0m \u001b[0;32min\u001b[0m \u001b[0mrange\u001b[0m\u001b[0;34m(\u001b[0m\u001b[0mN\u001b[0m\u001b[0;34m)\u001b[0m\u001b[0;34m:\u001b[0m\u001b[0;34m\u001b[0m\u001b[0;34m\u001b[0m\u001b[0m\n\u001b[1;32m      8\u001b[0m   \u001b[0mdf\u001b[0m\u001b[0;34m.\u001b[0m\u001b[0mkey\u001b[0m\u001b[0;34m[\u001b[0m\u001b[0mi\u001b[0m\u001b[0;34m]\u001b[0m \u001b[0;34m=\u001b[0m \u001b[0;34m'a'\u001b[0m\u001b[0;34m\u001b[0m\u001b[0;34m\u001b[0m\u001b[0m\n\u001b[0;32m----> 9\u001b[0;31m   \u001b[0ms\u001b[0m\u001b[0;34m.\u001b[0m\u001b[0mappend\u001b[0m\u001b[0;34m(\u001b[0m\u001b[0mdf\u001b[0m\u001b[0;34m[\u001b[0m\u001b[0mi\u001b[0m\u001b[0;34m]\u001b[0m\u001b[0;34m)\u001b[0m\u001b[0;34m\u001b[0m\u001b[0;34m\u001b[0m\u001b[0m\n\u001b[0m\u001b[1;32m     10\u001b[0m \u001b[0;32mfor\u001b[0m \u001b[0mj\u001b[0m \u001b[0;32min\u001b[0m \u001b[0mrange\u001b[0m\u001b[0;34m(\u001b[0m\u001b[0mN\u001b[0m\u001b[0;34m)\u001b[0m\u001b[0;34m:\u001b[0m\u001b[0;34m\u001b[0m\u001b[0;34m\u001b[0m\u001b[0m\n\u001b[1;32m     11\u001b[0m   \u001b[0mdf\u001b[0m\u001b[0;34m.\u001b[0m\u001b[0mkey\u001b[0m\u001b[0;34m[\u001b[0m\u001b[0mj\u001b[0m\u001b[0;34m]\u001b[0m \u001b[0;34m=\u001b[0m \u001b[0;34m'b'\u001b[0m\u001b[0;34m\u001b[0m\u001b[0;34m\u001b[0m\u001b[0m\n",
            "\u001b[0;32m/usr/local/lib/python3.10/dist-packages/pandas/core/frame.py\u001b[0m in \u001b[0;36m__getitem__\u001b[0;34m(self, key)\u001b[0m\n\u001b[1;32m   3805\u001b[0m             \u001b[0;32mif\u001b[0m \u001b[0mself\u001b[0m\u001b[0;34m.\u001b[0m\u001b[0mcolumns\u001b[0m\u001b[0;34m.\u001b[0m\u001b[0mnlevels\u001b[0m \u001b[0;34m>\u001b[0m \u001b[0;36m1\u001b[0m\u001b[0;34m:\u001b[0m\u001b[0;34m\u001b[0m\u001b[0;34m\u001b[0m\u001b[0m\n\u001b[1;32m   3806\u001b[0m                 \u001b[0;32mreturn\u001b[0m \u001b[0mself\u001b[0m\u001b[0;34m.\u001b[0m\u001b[0m_getitem_multilevel\u001b[0m\u001b[0;34m(\u001b[0m\u001b[0mkey\u001b[0m\u001b[0;34m)\u001b[0m\u001b[0;34m\u001b[0m\u001b[0;34m\u001b[0m\u001b[0m\n\u001b[0;32m-> 3807\u001b[0;31m             \u001b[0mindexer\u001b[0m \u001b[0;34m=\u001b[0m \u001b[0mself\u001b[0m\u001b[0;34m.\u001b[0m\u001b[0mcolumns\u001b[0m\u001b[0;34m.\u001b[0m\u001b[0mget_loc\u001b[0m\u001b[0;34m(\u001b[0m\u001b[0mkey\u001b[0m\u001b[0;34m)\u001b[0m\u001b[0;34m\u001b[0m\u001b[0;34m\u001b[0m\u001b[0m\n\u001b[0m\u001b[1;32m   3808\u001b[0m             \u001b[0;32mif\u001b[0m \u001b[0mis_integer\u001b[0m\u001b[0;34m(\u001b[0m\u001b[0mindexer\u001b[0m\u001b[0;34m)\u001b[0m\u001b[0;34m:\u001b[0m\u001b[0;34m\u001b[0m\u001b[0;34m\u001b[0m\u001b[0m\n\u001b[1;32m   3809\u001b[0m                 \u001b[0mindexer\u001b[0m \u001b[0;34m=\u001b[0m \u001b[0;34m[\u001b[0m\u001b[0mindexer\u001b[0m\u001b[0;34m]\u001b[0m\u001b[0;34m\u001b[0m\u001b[0;34m\u001b[0m\u001b[0m\n",
            "\u001b[0;32m/usr/local/lib/python3.10/dist-packages/pandas/core/indexes/base.py\u001b[0m in \u001b[0;36mget_loc\u001b[0;34m(self, key, method, tolerance)\u001b[0m\n\u001b[1;32m   3802\u001b[0m                 \u001b[0;32mreturn\u001b[0m \u001b[0mself\u001b[0m\u001b[0;34m.\u001b[0m\u001b[0m_engine\u001b[0m\u001b[0;34m.\u001b[0m\u001b[0mget_loc\u001b[0m\u001b[0;34m(\u001b[0m\u001b[0mcasted_key\u001b[0m\u001b[0;34m)\u001b[0m\u001b[0;34m\u001b[0m\u001b[0;34m\u001b[0m\u001b[0m\n\u001b[1;32m   3803\u001b[0m             \u001b[0;32mexcept\u001b[0m \u001b[0mKeyError\u001b[0m \u001b[0;32mas\u001b[0m \u001b[0merr\u001b[0m\u001b[0;34m:\u001b[0m\u001b[0;34m\u001b[0m\u001b[0;34m\u001b[0m\u001b[0m\n\u001b[0;32m-> 3804\u001b[0;31m                 \u001b[0;32mraise\u001b[0m \u001b[0mKeyError\u001b[0m\u001b[0;34m(\u001b[0m\u001b[0mkey\u001b[0m\u001b[0;34m)\u001b[0m \u001b[0;32mfrom\u001b[0m \u001b[0merr\u001b[0m\u001b[0;34m\u001b[0m\u001b[0;34m\u001b[0m\u001b[0m\n\u001b[0m\u001b[1;32m   3805\u001b[0m             \u001b[0;32mexcept\u001b[0m \u001b[0mTypeError\u001b[0m\u001b[0;34m:\u001b[0m\u001b[0;34m\u001b[0m\u001b[0;34m\u001b[0m\u001b[0m\n\u001b[1;32m   3806\u001b[0m                 \u001b[0;31m# If we have a listlike key, _check_indexing_error will raise\u001b[0m\u001b[0;34m\u001b[0m\u001b[0;34m\u001b[0m\u001b[0m\n",
            "\u001b[0;31mKeyError\u001b[0m: 4"
          ]
        }
      ]
    },
    {
      "cell_type": "markdown",
      "metadata": {
        "id": "Fv6_eU2jlNz9"
      },
      "source": [
        "## Лабораторная работа 3"
      ]
    },
    {
      "cell_type": "code",
      "execution_count": null,
      "metadata": {
        "colab": {
          "base_uri": "https://localhost:8080/"
        },
        "id": "mu2zcZSklNz9",
        "outputId": "3e9b922b-dd8a-4821-f497-9b45d169c1b9"
      },
      "outputs": [
        {
          "output_type": "stream",
          "name": "stdout",
          "text": [
            "Looking in indexes: https://pypi.org/simple, https://us-python.pkg.dev/colab-wheels/public/simple/\n",
            "Collecting line_profiler\n",
            "  Downloading line_profiler-4.0.3-cp310-cp310-manylinux_2_17_x86_64.manylinux2014_x86_64.whl (661 kB)\n",
            "\u001b[2K     \u001b[90m━━━━━━━━━━━━━━━━━━━━━━━━━━━━━━━━━━━━━━\u001b[0m \u001b[32m661.9/661.9 kB\u001b[0m \u001b[31m10.1 MB/s\u001b[0m eta \u001b[36m0:00:00\u001b[0m\n",
            "\u001b[?25hInstalling collected packages: line_profiler\n",
            "Successfully installed line_profiler-4.0.3\n"
          ]
        }
      ],
      "source": [
        "!pip install line_profiler"
      ]
    },
    {
      "cell_type": "markdown",
      "metadata": {
        "id": "L6TFNyNQlNz-"
      },
      "source": [
        "1. В файлах `recipes_sample.csv` и `reviews_sample.csv` (__ЛР 2__) находится информация об рецептах блюд и отзывах на эти рецепты соответственно. Загрузите данные из файлов в виде `pd.DataFrame` с названиями `recipes` и `reviews`. Обратите внимание на корректное считывание столбца(ов) с индексами. Приведите столбцы к нужным типам.\n",
        "\n",
        "Реализуйте несколько вариантов функции подсчета среднего значения столбца `rating` из таблицы `reviews` для отзывов, оставленных в 2010 году.\n",
        "\n",
        "A. С использованием метода `DataFrame.iterrows` исходной таблицы;\n",
        "\n",
        "Б. С использованием метода `DataFrame.iterrows` таблицы, в которой сохранены только отзывы за 2010 год;\n",
        "\n",
        "В. С использованием метода `Series.mean`.\n",
        "\n",
        "Проверьте, что результаты работы всех написанных функций корректны и совпадают. Измерьте выполнения всех написанных функций.\n"
      ]
    },
    {
      "cell_type": "code",
      "source": [
        "import numpy as np\n",
        "import pandas as pd\n",
        "recipes = pd.read_csv('recipes_sample.csv')\n",
        "recipes = pd.DataFrame(recipes)\n",
        "recipes[:3]"
      ],
      "metadata": {
        "colab": {
          "base_uri": "https://localhost:8080/",
          "height": 354
        },
        "id": "OGvHA7AimQqy",
        "outputId": "6378dead-eb73-4bea-d797-881c554a08ad"
      },
      "execution_count": null,
      "outputs": [
        {
          "output_type": "execute_result",
          "data": {
            "text/plain": [
              "                                       name     id  minutes  contributor_id  \\\n",
              "0     george s at the cove  black bean soup  44123       90           35193   \n",
              "1        healthy for them  yogurt popsicles  67664       10           91970   \n",
              "2              i can t believe it s spinach  38798       30            1533   \n",
              "3                      italian  gut busters  35173       45           22724   \n",
              "4  love is in the air  beef fondue   sauces  84797       25            4470   \n",
              "\n",
              "    submitted  n_steps                                        description  \\\n",
              "0  2002-10-25      NaN  an original recipe created by chef scott meska...   \n",
              "1  2003-07-26      NaN  my children and their friends ask for my homem...   \n",
              "2  2002-08-29      NaN            these were so go, it surprised even me.   \n",
              "3  2002-07-27      NaN  my sister-in-law made these for us at a family...   \n",
              "4  2004-02-23      4.0  i think a fondue is a very romantic casual din...   \n",
              "\n",
              "   n_ingredients  \n",
              "0           18.0  \n",
              "1            NaN  \n",
              "2            8.0  \n",
              "3            NaN  \n",
              "4            NaN  "
            ],
            "text/html": [
              "\n",
              "  <div id=\"df-8de7f2e2-b6c1-4446-b45e-a1f6312bb5d8\">\n",
              "    <div class=\"colab-df-container\">\n",
              "      <div>\n",
              "<style scoped>\n",
              "    .dataframe tbody tr th:only-of-type {\n",
              "        vertical-align: middle;\n",
              "    }\n",
              "\n",
              "    .dataframe tbody tr th {\n",
              "        vertical-align: top;\n",
              "    }\n",
              "\n",
              "    .dataframe thead th {\n",
              "        text-align: right;\n",
              "    }\n",
              "</style>\n",
              "<table border=\"1\" class=\"dataframe\">\n",
              "  <thead>\n",
              "    <tr style=\"text-align: right;\">\n",
              "      <th></th>\n",
              "      <th>name</th>\n",
              "      <th>id</th>\n",
              "      <th>minutes</th>\n",
              "      <th>contributor_id</th>\n",
              "      <th>submitted</th>\n",
              "      <th>n_steps</th>\n",
              "      <th>description</th>\n",
              "      <th>n_ingredients</th>\n",
              "    </tr>\n",
              "  </thead>\n",
              "  <tbody>\n",
              "    <tr>\n",
              "      <th>0</th>\n",
              "      <td>george s at the cove  black bean soup</td>\n",
              "      <td>44123</td>\n",
              "      <td>90</td>\n",
              "      <td>35193</td>\n",
              "      <td>2002-10-25</td>\n",
              "      <td>NaN</td>\n",
              "      <td>an original recipe created by chef scott meska...</td>\n",
              "      <td>18.0</td>\n",
              "    </tr>\n",
              "    <tr>\n",
              "      <th>1</th>\n",
              "      <td>healthy for them  yogurt popsicles</td>\n",
              "      <td>67664</td>\n",
              "      <td>10</td>\n",
              "      <td>91970</td>\n",
              "      <td>2003-07-26</td>\n",
              "      <td>NaN</td>\n",
              "      <td>my children and their friends ask for my homem...</td>\n",
              "      <td>NaN</td>\n",
              "    </tr>\n",
              "    <tr>\n",
              "      <th>2</th>\n",
              "      <td>i can t believe it s spinach</td>\n",
              "      <td>38798</td>\n",
              "      <td>30</td>\n",
              "      <td>1533</td>\n",
              "      <td>2002-08-29</td>\n",
              "      <td>NaN</td>\n",
              "      <td>these were so go, it surprised even me.</td>\n",
              "      <td>8.0</td>\n",
              "    </tr>\n",
              "    <tr>\n",
              "      <th>3</th>\n",
              "      <td>italian  gut busters</td>\n",
              "      <td>35173</td>\n",
              "      <td>45</td>\n",
              "      <td>22724</td>\n",
              "      <td>2002-07-27</td>\n",
              "      <td>NaN</td>\n",
              "      <td>my sister-in-law made these for us at a family...</td>\n",
              "      <td>NaN</td>\n",
              "    </tr>\n",
              "    <tr>\n",
              "      <th>4</th>\n",
              "      <td>love is in the air  beef fondue   sauces</td>\n",
              "      <td>84797</td>\n",
              "      <td>25</td>\n",
              "      <td>4470</td>\n",
              "      <td>2004-02-23</td>\n",
              "      <td>4.0</td>\n",
              "      <td>i think a fondue is a very romantic casual din...</td>\n",
              "      <td>NaN</td>\n",
              "    </tr>\n",
              "  </tbody>\n",
              "</table>\n",
              "</div>\n",
              "      <button class=\"colab-df-convert\" onclick=\"convertToInteractive('df-8de7f2e2-b6c1-4446-b45e-a1f6312bb5d8')\"\n",
              "              title=\"Convert this dataframe to an interactive table.\"\n",
              "              style=\"display:none;\">\n",
              "        \n",
              "  <svg xmlns=\"http://www.w3.org/2000/svg\" height=\"24px\"viewBox=\"0 0 24 24\"\n",
              "       width=\"24px\">\n",
              "    <path d=\"M0 0h24v24H0V0z\" fill=\"none\"/>\n",
              "    <path d=\"M18.56 5.44l.94 2.06.94-2.06 2.06-.94-2.06-.94-.94-2.06-.94 2.06-2.06.94zm-11 1L8.5 8.5l.94-2.06 2.06-.94-2.06-.94L8.5 2.5l-.94 2.06-2.06.94zm10 10l.94 2.06.94-2.06 2.06-.94-2.06-.94-.94-2.06-.94 2.06-2.06.94z\"/><path d=\"M17.41 7.96l-1.37-1.37c-.4-.4-.92-.59-1.43-.59-.52 0-1.04.2-1.43.59L10.3 9.45l-7.72 7.72c-.78.78-.78 2.05 0 2.83L4 21.41c.39.39.9.59 1.41.59.51 0 1.02-.2 1.41-.59l7.78-7.78 2.81-2.81c.8-.78.8-2.07 0-2.86zM5.41 20L4 18.59l7.72-7.72 1.47 1.35L5.41 20z\"/>\n",
              "  </svg>\n",
              "      </button>\n",
              "      \n",
              "  <style>\n",
              "    .colab-df-container {\n",
              "      display:flex;\n",
              "      flex-wrap:wrap;\n",
              "      gap: 12px;\n",
              "    }\n",
              "\n",
              "    .colab-df-convert {\n",
              "      background-color: #E8F0FE;\n",
              "      border: none;\n",
              "      border-radius: 50%;\n",
              "      cursor: pointer;\n",
              "      display: none;\n",
              "      fill: #1967D2;\n",
              "      height: 32px;\n",
              "      padding: 0 0 0 0;\n",
              "      width: 32px;\n",
              "    }\n",
              "\n",
              "    .colab-df-convert:hover {\n",
              "      background-color: #E2EBFA;\n",
              "      box-shadow: 0px 1px 2px rgba(60, 64, 67, 0.3), 0px 1px 3px 1px rgba(60, 64, 67, 0.15);\n",
              "      fill: #174EA6;\n",
              "    }\n",
              "\n",
              "    [theme=dark] .colab-df-convert {\n",
              "      background-color: #3B4455;\n",
              "      fill: #D2E3FC;\n",
              "    }\n",
              "\n",
              "    [theme=dark] .colab-df-convert:hover {\n",
              "      background-color: #434B5C;\n",
              "      box-shadow: 0px 1px 3px 1px rgba(0, 0, 0, 0.15);\n",
              "      filter: drop-shadow(0px 1px 2px rgba(0, 0, 0, 0.3));\n",
              "      fill: #FFFFFF;\n",
              "    }\n",
              "  </style>\n",
              "\n",
              "      <script>\n",
              "        const buttonEl =\n",
              "          document.querySelector('#df-8de7f2e2-b6c1-4446-b45e-a1f6312bb5d8 button.colab-df-convert');\n",
              "        buttonEl.style.display =\n",
              "          google.colab.kernel.accessAllowed ? 'block' : 'none';\n",
              "\n",
              "        async function convertToInteractive(key) {\n",
              "          const element = document.querySelector('#df-8de7f2e2-b6c1-4446-b45e-a1f6312bb5d8');\n",
              "          const dataTable =\n",
              "            await google.colab.kernel.invokeFunction('convertToInteractive',\n",
              "                                                     [key], {});\n",
              "          if (!dataTable) return;\n",
              "\n",
              "          const docLinkHtml = 'Like what you see? Visit the ' +\n",
              "            '<a target=\"_blank\" href=https://colab.research.google.com/notebooks/data_table.ipynb>data table notebook</a>'\n",
              "            + ' to learn more about interactive tables.';\n",
              "          element.innerHTML = '';\n",
              "          dataTable['output_type'] = 'display_data';\n",
              "          await google.colab.output.renderOutput(dataTable, element);\n",
              "          const docLink = document.createElement('div');\n",
              "          docLink.innerHTML = docLinkHtml;\n",
              "          element.appendChild(docLink);\n",
              "        }\n",
              "      </script>\n",
              "    </div>\n",
              "  </div>\n",
              "  "
            ]
          },
          "metadata": {},
          "execution_count": 8
        }
      ]
    },
    {
      "cell_type": "code",
      "source": [
        "reviews = pd.read_csv('reviews_sample.csv')\n",
        "reviews = pd.DataFrame(reviews)\n",
        "reviews[:3]"
      ],
      "metadata": {
        "colab": {
          "base_uri": "https://localhost:8080/",
          "height": 519
        },
        "id": "KPekOhA-octm",
        "outputId": "4111fa55-b107-4895-c802-861b8514780e"
      },
      "execution_count": null,
      "outputs": [
        {
          "output_type": "execute_result",
          "data": {
            "text/plain": [
              "    Unnamed: 0     user_id  recipe_id        date  rating  \\\n",
              "0       370476       21752      57993  2003-05-01       5   \n",
              "1       624300      431813     142201  2007-09-16       5   \n",
              "2       187037      400708     252013  2008-01-10       4   \n",
              "3       706134  2001852463     404716  2017-12-11       5   \n",
              "4       312179       95810     129396  2008-03-14       5   \n",
              "5       910362       35106      31322  2003-01-03       4   \n",
              "6       212649      404333     199579  2006-12-10       5   \n",
              "7       815389      162888      16067  2005-12-09       5   \n",
              "8       642377       89831      33715  2007-07-03       5   \n",
              "9      1023302      308434      11252  2008-12-14       5   \n",
              "10      264646      151754     285773  2008-09-04       0   \n",
              "11      488041      439759     154996  2007-11-18       5   \n",
              "12      868771       37275       7974  2002-04-05       5   \n",
              "13      126930      379985     150499  2008-08-21       5   \n",
              "14      765972      110278     114415  2005-10-17       5   \n",
              "\n",
              "                                               review  \n",
              "0   Last week whole sides of frozen salmon fillet ...  \n",
              "1   So simple and so tasty!  I used a yellow capsi...  \n",
              "2   Very nice breakfast HH, easy to make and yummy...  \n",
              "3   These are a favorite for the holidays and so e...  \n",
              "4   Excellent soup!  The tomato flavor is just gre...  \n",
              "5   I forgot to add skim milk but it still tasted ...  \n",
              "6   Made this for dinner it was so excellent, fina...  \n",
              "7   When I snapped the picture, I forgot to review...  \n",
              "8   This was good combination of flavors but I wil...  \n",
              "9   Oh Bergy!  These wonderful little cakes are aw...  \n",
              "10  This was a very moist cornbread, even two days...  \n",
              "11  I've also been making this recipe for the past...  \n",
              "12         Exceptional delicious and so easy to make.  \n",
              "13  I really liked this recipe. It's perfect to ma...  \n",
              "14  I love this sandwich!! I'm on the go alot and ...  "
            ],
            "text/html": [
              "\n",
              "  <div id=\"df-dab964cc-7284-47a2-9606-f8eb4ca00e1e\">\n",
              "    <div class=\"colab-df-container\">\n",
              "      <div>\n",
              "<style scoped>\n",
              "    .dataframe tbody tr th:only-of-type {\n",
              "        vertical-align: middle;\n",
              "    }\n",
              "\n",
              "    .dataframe tbody tr th {\n",
              "        vertical-align: top;\n",
              "    }\n",
              "\n",
              "    .dataframe thead th {\n",
              "        text-align: right;\n",
              "    }\n",
              "</style>\n",
              "<table border=\"1\" class=\"dataframe\">\n",
              "  <thead>\n",
              "    <tr style=\"text-align: right;\">\n",
              "      <th></th>\n",
              "      <th>Unnamed: 0</th>\n",
              "      <th>user_id</th>\n",
              "      <th>recipe_id</th>\n",
              "      <th>date</th>\n",
              "      <th>rating</th>\n",
              "      <th>review</th>\n",
              "    </tr>\n",
              "  </thead>\n",
              "  <tbody>\n",
              "    <tr>\n",
              "      <th>0</th>\n",
              "      <td>370476</td>\n",
              "      <td>21752</td>\n",
              "      <td>57993</td>\n",
              "      <td>2003-05-01</td>\n",
              "      <td>5</td>\n",
              "      <td>Last week whole sides of frozen salmon fillet ...</td>\n",
              "    </tr>\n",
              "    <tr>\n",
              "      <th>1</th>\n",
              "      <td>624300</td>\n",
              "      <td>431813</td>\n",
              "      <td>142201</td>\n",
              "      <td>2007-09-16</td>\n",
              "      <td>5</td>\n",
              "      <td>So simple and so tasty!  I used a yellow capsi...</td>\n",
              "    </tr>\n",
              "    <tr>\n",
              "      <th>2</th>\n",
              "      <td>187037</td>\n",
              "      <td>400708</td>\n",
              "      <td>252013</td>\n",
              "      <td>2008-01-10</td>\n",
              "      <td>4</td>\n",
              "      <td>Very nice breakfast HH, easy to make and yummy...</td>\n",
              "    </tr>\n",
              "    <tr>\n",
              "      <th>3</th>\n",
              "      <td>706134</td>\n",
              "      <td>2001852463</td>\n",
              "      <td>404716</td>\n",
              "      <td>2017-12-11</td>\n",
              "      <td>5</td>\n",
              "      <td>These are a favorite for the holidays and so e...</td>\n",
              "    </tr>\n",
              "    <tr>\n",
              "      <th>4</th>\n",
              "      <td>312179</td>\n",
              "      <td>95810</td>\n",
              "      <td>129396</td>\n",
              "      <td>2008-03-14</td>\n",
              "      <td>5</td>\n",
              "      <td>Excellent soup!  The tomato flavor is just gre...</td>\n",
              "    </tr>\n",
              "    <tr>\n",
              "      <th>5</th>\n",
              "      <td>910362</td>\n",
              "      <td>35106</td>\n",
              "      <td>31322</td>\n",
              "      <td>2003-01-03</td>\n",
              "      <td>4</td>\n",
              "      <td>I forgot to add skim milk but it still tasted ...</td>\n",
              "    </tr>\n",
              "    <tr>\n",
              "      <th>6</th>\n",
              "      <td>212649</td>\n",
              "      <td>404333</td>\n",
              "      <td>199579</td>\n",
              "      <td>2006-12-10</td>\n",
              "      <td>5</td>\n",
              "      <td>Made this for dinner it was so excellent, fina...</td>\n",
              "    </tr>\n",
              "    <tr>\n",
              "      <th>7</th>\n",
              "      <td>815389</td>\n",
              "      <td>162888</td>\n",
              "      <td>16067</td>\n",
              "      <td>2005-12-09</td>\n",
              "      <td>5</td>\n",
              "      <td>When I snapped the picture, I forgot to review...</td>\n",
              "    </tr>\n",
              "    <tr>\n",
              "      <th>8</th>\n",
              "      <td>642377</td>\n",
              "      <td>89831</td>\n",
              "      <td>33715</td>\n",
              "      <td>2007-07-03</td>\n",
              "      <td>5</td>\n",
              "      <td>This was good combination of flavors but I wil...</td>\n",
              "    </tr>\n",
              "    <tr>\n",
              "      <th>9</th>\n",
              "      <td>1023302</td>\n",
              "      <td>308434</td>\n",
              "      <td>11252</td>\n",
              "      <td>2008-12-14</td>\n",
              "      <td>5</td>\n",
              "      <td>Oh Bergy!  These wonderful little cakes are aw...</td>\n",
              "    </tr>\n",
              "    <tr>\n",
              "      <th>10</th>\n",
              "      <td>264646</td>\n",
              "      <td>151754</td>\n",
              "      <td>285773</td>\n",
              "      <td>2008-09-04</td>\n",
              "      <td>0</td>\n",
              "      <td>This was a very moist cornbread, even two days...</td>\n",
              "    </tr>\n",
              "    <tr>\n",
              "      <th>11</th>\n",
              "      <td>488041</td>\n",
              "      <td>439759</td>\n",
              "      <td>154996</td>\n",
              "      <td>2007-11-18</td>\n",
              "      <td>5</td>\n",
              "      <td>I've also been making this recipe for the past...</td>\n",
              "    </tr>\n",
              "    <tr>\n",
              "      <th>12</th>\n",
              "      <td>868771</td>\n",
              "      <td>37275</td>\n",
              "      <td>7974</td>\n",
              "      <td>2002-04-05</td>\n",
              "      <td>5</td>\n",
              "      <td>Exceptional delicious and so easy to make.</td>\n",
              "    </tr>\n",
              "    <tr>\n",
              "      <th>13</th>\n",
              "      <td>126930</td>\n",
              "      <td>379985</td>\n",
              "      <td>150499</td>\n",
              "      <td>2008-08-21</td>\n",
              "      <td>5</td>\n",
              "      <td>I really liked this recipe. It's perfect to ma...</td>\n",
              "    </tr>\n",
              "    <tr>\n",
              "      <th>14</th>\n",
              "      <td>765972</td>\n",
              "      <td>110278</td>\n",
              "      <td>114415</td>\n",
              "      <td>2005-10-17</td>\n",
              "      <td>5</td>\n",
              "      <td>I love this sandwich!! I'm on the go alot and ...</td>\n",
              "    </tr>\n",
              "  </tbody>\n",
              "</table>\n",
              "</div>\n",
              "      <button class=\"colab-df-convert\" onclick=\"convertToInteractive('df-dab964cc-7284-47a2-9606-f8eb4ca00e1e')\"\n",
              "              title=\"Convert this dataframe to an interactive table.\"\n",
              "              style=\"display:none;\">\n",
              "        \n",
              "  <svg xmlns=\"http://www.w3.org/2000/svg\" height=\"24px\"viewBox=\"0 0 24 24\"\n",
              "       width=\"24px\">\n",
              "    <path d=\"M0 0h24v24H0V0z\" fill=\"none\"/>\n",
              "    <path d=\"M18.56 5.44l.94 2.06.94-2.06 2.06-.94-2.06-.94-.94-2.06-.94 2.06-2.06.94zm-11 1L8.5 8.5l.94-2.06 2.06-.94-2.06-.94L8.5 2.5l-.94 2.06-2.06.94zm10 10l.94 2.06.94-2.06 2.06-.94-2.06-.94-.94-2.06-.94 2.06-2.06.94z\"/><path d=\"M17.41 7.96l-1.37-1.37c-.4-.4-.92-.59-1.43-.59-.52 0-1.04.2-1.43.59L10.3 9.45l-7.72 7.72c-.78.78-.78 2.05 0 2.83L4 21.41c.39.39.9.59 1.41.59.51 0 1.02-.2 1.41-.59l7.78-7.78 2.81-2.81c.8-.78.8-2.07 0-2.86zM5.41 20L4 18.59l7.72-7.72 1.47 1.35L5.41 20z\"/>\n",
              "  </svg>\n",
              "      </button>\n",
              "      \n",
              "  <style>\n",
              "    .colab-df-container {\n",
              "      display:flex;\n",
              "      flex-wrap:wrap;\n",
              "      gap: 12px;\n",
              "    }\n",
              "\n",
              "    .colab-df-convert {\n",
              "      background-color: #E8F0FE;\n",
              "      border: none;\n",
              "      border-radius: 50%;\n",
              "      cursor: pointer;\n",
              "      display: none;\n",
              "      fill: #1967D2;\n",
              "      height: 32px;\n",
              "      padding: 0 0 0 0;\n",
              "      width: 32px;\n",
              "    }\n",
              "\n",
              "    .colab-df-convert:hover {\n",
              "      background-color: #E2EBFA;\n",
              "      box-shadow: 0px 1px 2px rgba(60, 64, 67, 0.3), 0px 1px 3px 1px rgba(60, 64, 67, 0.15);\n",
              "      fill: #174EA6;\n",
              "    }\n",
              "\n",
              "    [theme=dark] .colab-df-convert {\n",
              "      background-color: #3B4455;\n",
              "      fill: #D2E3FC;\n",
              "    }\n",
              "\n",
              "    [theme=dark] .colab-df-convert:hover {\n",
              "      background-color: #434B5C;\n",
              "      box-shadow: 0px 1px 3px 1px rgba(0, 0, 0, 0.15);\n",
              "      filter: drop-shadow(0px 1px 2px rgba(0, 0, 0, 0.3));\n",
              "      fill: #FFFFFF;\n",
              "    }\n",
              "  </style>\n",
              "\n",
              "      <script>\n",
              "        const buttonEl =\n",
              "          document.querySelector('#df-dab964cc-7284-47a2-9606-f8eb4ca00e1e button.colab-df-convert');\n",
              "        buttonEl.style.display =\n",
              "          google.colab.kernel.accessAllowed ? 'block' : 'none';\n",
              "\n",
              "        async function convertToInteractive(key) {\n",
              "          const element = document.querySelector('#df-dab964cc-7284-47a2-9606-f8eb4ca00e1e');\n",
              "          const dataTable =\n",
              "            await google.colab.kernel.invokeFunction('convertToInteractive',\n",
              "                                                     [key], {});\n",
              "          if (!dataTable) return;\n",
              "\n",
              "          const docLinkHtml = 'Like what you see? Visit the ' +\n",
              "            '<a target=\"_blank\" href=https://colab.research.google.com/notebooks/data_table.ipynb>data table notebook</a>'\n",
              "            + ' to learn more about interactive tables.';\n",
              "          element.innerHTML = '';\n",
              "          dataTable['output_type'] = 'display_data';\n",
              "          await google.colab.output.renderOutput(dataTable, element);\n",
              "          const docLink = document.createElement('div');\n",
              "          docLink.innerHTML = docLinkHtml;\n",
              "          element.appendChild(docLink);\n",
              "        }\n",
              "      </script>\n",
              "    </div>\n",
              "  </div>\n",
              "  "
            ]
          },
          "metadata": {},
          "execution_count": 9
        }
      ]
    },
    {
      "cell_type": "code",
      "source": [
        "#A\n",
        "#Реализуйте несколько вариантов функции подсчета среднего значения столбца rating из таблицы reviews для отзывов, оставленных в 2010 году.\n",
        "#A. С использованием метода DataFrame.iterrows исходной таблицы;\n",
        "\n",
        "#for row in reviews[:5].itertuples():\n",
        "   # print(row)\n",
        "#from numba import njit\n",
        "#import numpy as np\n",
        "import time\n",
        "a = []\n",
        "c = 0\n",
        "start = time.time()\n",
        "for index, row in reviews.iterrows():\n",
        "  if '2010' in row['date']:   \n",
        "    a.append(row['rating'])\n",
        "    c = c + row['rating']\n",
        "r = c/len(a)\n",
        "end = time.time()\n",
        "print(r)\n",
        "print(\"Время выполнения \",end-start)\n"
      ],
      "metadata": {
        "colab": {
          "base_uri": "https://localhost:8080/"
        },
        "id": "ck0kayvNpTC7",
        "outputId": "033ce03b-461e-4e9e-e3fe-f7a79c5243af"
      },
      "execution_count": null,
      "outputs": [
        {
          "output_type": "stream",
          "name": "stdout",
          "text": [
            "4.4544402182900615\n",
            "Время выполнения  3.8714733123779297\n"
          ]
        }
      ]
    },
    {
      "cell_type": "code",
      "source": [
        "#Б\n",
        "dat = []\n",
        "for index, row in reviews.iterrows():\n",
        "  if '2010' in row['date']:\n",
        "    dat.append(row['date'])\n",
        "\n",
        "reviews2010 = pd.DataFrame({'rating':a,'date': dat})\n",
        "start = time.time()\n",
        "cow = 0\n",
        "coke = []\n",
        "for index, row in reviews2010.iterrows():\n",
        "  cow += row['rating']\n",
        "  coke.append(row['rating'])\n",
        "coke = cow/len(coke)\n",
        "print(coke)\n",
        "end = time.time()\n",
        "print(\"Время выполнения \",end-start)\n",
        "#print(a)"
      ],
      "metadata": {
        "colab": {
          "base_uri": "https://localhost:8080/"
        },
        "id": "HW4KR-sSr6T8",
        "outputId": "a9b6cc03-8ddd-498b-cf00-8fe5a520351e"
      },
      "execution_count": null,
      "outputs": [
        {
          "output_type": "stream",
          "name": "stdout",
          "text": [
            "4.4544402182900615\n",
            "Время выполнения  0.3945624828338623\n"
          ]
        }
      ]
    },
    {
      "cell_type": "code",
      "source": [
        "#reviews2010 = pd.DataFrame({'rating':a,'date': dat})\n",
        "#reviews2010[:7]\n",
        "cow = 0\n",
        "coke = []\n",
        "for index, row in reviews2010.iterrows():\n",
        "  cow += row['rating']\n",
        "  coke.append(row['rating'])\n",
        "coke = cow/len(coke)\n",
        "print(coke)\n"
      ],
      "metadata": {
        "colab": {
          "base_uri": "https://localhost:8080/"
        },
        "id": "3VWTMQPEuGqV",
        "outputId": "dcf4f8c7-fb7c-424c-fcdd-33a5df6441d8"
      },
      "execution_count": null,
      "outputs": [
        {
          "output_type": "stream",
          "name": "stdout",
          "text": [
            "4.4544402182900615\n"
          ]
        }
      ]
    },
    {
      "cell_type": "code",
      "source": [
        "#В\n",
        "# С использованием метода Series.mean.\n",
        "from numba import jit\n",
        "import pandas as pd\n",
        "\n",
        "\n",
        "start = time.time()\n",
        "print(reviews2010['rating'].mean(axis=0))\n",
        "end = time.time()\n",
        "print(\"Время выполнения \",end-start)"
      ],
      "metadata": {
        "colab": {
          "base_uri": "https://localhost:8080/"
        },
        "id": "XI0yZscIvd72",
        "outputId": "9b737f05-6e1b-48c1-d927-28f7694f7933"
      },
      "execution_count": null,
      "outputs": [
        {
          "output_type": "stream",
          "name": "stdout",
          "text": [
            "4.4544402182900615\n",
            "Время выполнения  0.001608133316040039\n"
          ]
        }
      ]
    },
    {
      "cell_type": "markdown",
      "metadata": {
        "id": "Wj19D8iLlNz-"
      },
      "source": [
        "2. Какая из созданных функций выполняется медленнее? Что наиболее сильно влияет на скорость выполнения? Для ответа использовать профайлер `line_profiler`. Сохраните результаты работы профайлера в отдельную текстовую ячейку и прокомментируйте результаты его работы.\n",
        "\n",
        "(*). Сможете ли вы ускорить работу функции 1Б, отказавшись от использования метода `iterrows`, но не используя метод `mean`?"
      ]
    },
    {
      "cell_type": "code",
      "source": [
        "%load_ext line_profiler"
      ],
      "metadata": {
        "id": "7769LqtELYuz"
      },
      "execution_count": null,
      "outputs": []
    },
    {
      "cell_type": "code",
      "source": [
        "%lprun -f f1 f1(A)"
      ],
      "metadata": {
        "colab": {
          "base_uri": "https://localhost:8080/"
        },
        "id": "BD3O0VOnNqc3",
        "outputId": "e65288df-dca0-4d2e-a07e-7820dc2a7d73"
      },
      "execution_count": null,
      "outputs": [
        {
          "output_type": "stream",
          "name": "stdout",
          "text": [
            "Время выполнения  3.1431379318237305\n"
          ]
        }
      ]
    },
    {
      "cell_type": "code",
      "source": [
        "%lprun -f f2 f2(A)"
      ],
      "metadata": {
        "colab": {
          "base_uri": "https://localhost:8080/"
        },
        "id": "_b_M5n6mOkqj",
        "outputId": "d85f228d-314d-425b-c96d-d5fd06dbce96"
      },
      "execution_count": null,
      "outputs": [
        {
          "output_type": "stream",
          "name": "stdout",
          "text": [
            "Время выполнения  1.8968160152435303\n"
          ]
        }
      ]
    },
    {
      "cell_type": "code",
      "source": [
        "%lprun -f f3 f3(A)"
      ],
      "metadata": {
        "id": "Ha57NNugOn6U"
      },
      "execution_count": null,
      "outputs": []
    },
    {
      "cell_type": "markdown",
      "metadata": {
        "id": "DdIjKglElNz-"
      },
      "source": [
        "3. Вам предлагается воспользоваться функцией, которая собирает статистику о том, сколько отзывов содержат то или иное слово. Измерьте время выполнения этой функции. Сможете ли вы найти узкие места в коде, используя профайлер? Выпишите (словами), что в имеющемся коде реализовано неоптимально. Оптимизируйте функцию и добейтесь значительного (как минимум, на один порядок) прироста в скорости выполнения."
      ]
    },
    {
      "cell_type": "code",
      "execution_count": null,
      "metadata": {
        "id": "pAQPuK6SlNz_",
        "colab": {
          "base_uri": "https://localhost:8080/"
        },
        "outputId": "bc793ca0-e566-4bcb-a26f-8cb783e93a1f"
      },
      "outputs": [
        {
          "output_type": "stream",
          "name": "stdout",
          "text": [
            "Время выполнения  0.00015115737915039062\n"
          ]
        }
      ],
      "source": [
        "start = time.time()\n",
        "def get_word_reviews_count(df):\n",
        "    word_reviews = {}\n",
        "    for _, row in df.dropna(subset=['review']).iterrows():\n",
        "        recipe_id, review = row['recipe_id'], row['review']\n",
        "        words = review.split(' ')\n",
        "        for word in words:\n",
        "            if word not in word_reviews:\n",
        "                word_reviews[word] = []\n",
        "            word_reviews[word].append(recipe_id)\n",
        "    \n",
        "    word_reviews_count = {}\n",
        "    for _, row in df.dropna(subset=['review']).iterrows():\n",
        "        review = row['review']\n",
        "        words = review.split(' ')\n",
        "        for word in words:\n",
        "            word_reviews_count[word] = len(word_reviews[word])\n",
        "    return word_reviews_count\n",
        "end = time.time()\n",
        "print(\"Время выполнения \",end-start)"
      ]
    },
    {
      "cell_type": "code",
      "source": [
        "start = time.time()\n",
        "def get_word_reviews_count_new(df):\n",
        "  word_reviews = {}\n",
        "  for row in df.dropna(subset=['review'])['review'].str.split(' '):\n",
        "    for word in row:\n",
        "      if word in word_reviews:\n",
        "        word_reviews[word] += 1\n",
        "  return word_reviews\n",
        "end = time.time()\n",
        "print(\"Время выполнения \",end-start)     \n"
      ],
      "metadata": {
        "colab": {
          "base_uri": "https://localhost:8080/"
        },
        "id": "3r-OvVnXw6GC",
        "outputId": "b19f88ec-e9a7-41a3-ddec-bba62b03a86f"
      },
      "execution_count": null,
      "outputs": [
        {
          "output_type": "stream",
          "name": "stdout",
          "text": [
            "Время выполнения  0.0001366138458251953\n"
          ]
        }
      ]
    },
    {
      "cell_type": "markdown",
      "metadata": {
        "id": "FoBH-NDflNz_"
      },
      "source": [
        "4. Напишите несколько версий функции `MAPE` (см. [MAPE](https://en.wikipedia.org/wiki/Mean_absolute_percentage_error)) для расчета среднего абсолютного процентного отклонения значения рейтинга отзыва на рецепт от среднего значения рейтинга по всем отзывам для этого рецепта. \n",
        "    1. Без использования векторизованных операций и методов массивов `numpy` и без использования `numba`\n",
        "    2. Без использования векторизованных операций и методов массивов `numpy`, но с использованием `numba`\n",
        "    3. С использованием векторизованных операций и методов массивов `numpy`, но без использования `numba`\n",
        "    4. C использованием векторизованных операций и методов массивов `numpy` и `numba`\n",
        "    \n",
        "Измерьте время выполнения каждой из реализаций.\n",
        "\n",
        "Замечание: удалите из выборки отзывы с нулевым рейтингом.\n"
      ]
    },
    {
      "cell_type": "code",
      "execution_count": null,
      "metadata": {
        "id": "QLU2Q2XflNz_"
      },
      "outputs": [],
      "source": []
    },
    {
      "cell_type": "code",
      "execution_count": null,
      "metadata": {
        "id": "OUlH-EhtlNz_"
      },
      "outputs": [],
      "source": []
    },
    {
      "cell_type": "markdown",
      "metadata": {
        "id": "JhoysPO4lNz_"
      },
      "source": [
        "#### [версия 2]\n",
        "* Уточнены формулировки задач 1, 3, 4"
      ]
    },
    {
      "cell_type": "code",
      "execution_count": null,
      "metadata": {
        "id": "9rKK3ycTlNz_"
      },
      "outputs": [],
      "source": []
    }
  ],
  "metadata": {
    "kernelspec": {
      "display_name": "Python 3",
      "language": "python",
      "name": "python3"
    },
    "language_info": {
      "codemirror_mode": {
        "name": "ipython",
        "version": 3
      },
      "file_extension": ".py",
      "mimetype": "text/x-python",
      "name": "python",
      "nbconvert_exporter": "python",
      "pygments_lexer": "ipython3",
      "version": "3.7.4"
    },
    "colab": {
      "provenance": []
    }
  },
  "nbformat": 4,
  "nbformat_minor": 0
}